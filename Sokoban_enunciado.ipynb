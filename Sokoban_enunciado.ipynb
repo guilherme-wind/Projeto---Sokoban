{
 "cells": [
  {
   "cell_type": "markdown",
   "metadata": {},
   "source": [
    "# Avaliação Contínua V\n",
    "## Introdução à Inteligência Artificial, edição 23/24\n",
    "\n",
    "<img src=\"Imagens\\220px-Sokoban_ani.gif\" alt=\"Drawing\" style=\"width: 200px;\"/>"
   ]
  },
  {
   "cell_type": "markdown",
   "metadata": {},
   "source": [
    "## Introdução\n",
    "\n",
    "Nesta avaliação contínua irão modelizar o problema do Sokoban usando o python através de uma variação do código disponibilizado pelo aima-python tendo para isso também que contornar alguma ineficiência na transformação dos esquemas de acções nas suas diversas instâncias, a qual limita a modelização dos problemas de planeamento com esquemas de acções que envolvam muitos objectos e várias variáveis. \n",
    "\n",
    "\n",
    "### Recursos necessários\n",
    "Para este projecto os seguintes módulos são necessários (distribuídos juntamente com o enunciado):\n",
    "* `planningPlus.py` - módulo principal\n",
    "* `search.py` - módulo principal\n",
    "* `logic.py` - módulo auxiliar\n",
    "* `utils.py` - módulo auxiliar"
   ]
  },
  {
   "cell_type": "markdown",
   "metadata": {},
   "source": [
    "## O problema do Sokoban\n",
    "<img src=\"Imagens\\4c8750980f04a2fb9dbea2230db9728904f37297-sokoban-start-to-end.PNG\" alt=\"Drawing\" style=\"width: 400px;\"/> \n",
    "\n",
    "O puzzle Sokoban é jogado tipicamente numa grelha de células quadradas, onde cada célula é uma parede ou chão navegável. Algumas das células de chão contêm caixas e outras estão marcadas como lugares de armazenamento das caixas.\n",
    "\n",
    "O jogador (Sokoban) está confinado ao tabuleiro e pode movimentar-se ortogonalmente para células adjacentes, que sejam navegáveis e vazias - o sokoban não tem super poderes, não podendo atravessar nem paredes nem caixas.\n",
    "\n",
    "O Sokoban pode também empurrar caixas que estejam ao seu lado e pode fazê-lo para células vazias adjacentes. As caixas não podem ser empurradas se ao seu lado, na orientação do movimento, estiver uma parede ou outra caixa. \n",
    "\n",
    "O número de caixas é sempre igual ao número de destinos de armazenamento. O puzzle fica resolvido quando todos os lugares de armazenamento forem ocupados por caixas.\n",
    "\n",
    "Pretendemos que formulem um qualquer puzzle Sokoban, dado em modo txt, como um problema de planeamento usando PDDL (*Planning Domain Definition Language*). "
   ]
  },
  {
   "cell_type": "markdown",
   "metadata": {},
   "source": [
    "## A linguagem PDDL\n",
    "Em princípio, para definirmos um problema temos de ter:\n",
    "\n",
    "* um conhecimento base\n",
    "* um conjunto de objetivos\n",
    "* um conjunto de esquemas de ações\n",
    "* O domínio\n",
    "\n",
    "Vejam que:\n",
    "* o conhecimento de base é constituído pelos objectos e conjunção de expressões lógicas (positivas e negativas) que representam a situação inicial que enfrenta o planeador. O conhecimento de base corresponde ao estado no paradigma do espaço de estados, onde se representa a informação que muda com as acções.\n",
    "* Os objectivos serão uma lista de expressões lógicas positivas e negaticas que terão ser verdadeiras para que sejam cumpridos.\n",
    "* O conjunto de esquemas de acções possuem pré-condições, efeitos e domínios. Na prática são fábricas que permitem gerar todas as acções possíveis para todas as permutações das suas variáveis, considerando que têm de satisfazer os respectivos domínios.\n",
    "* No domínio representamos a informação estática que não muda com as acções. "
   ]
  },
  {
   "cell_type": "markdown",
   "metadata": {},
   "source": [
    "## Sokoban em modo texto\n",
    "Vamos representar os puzzles Sokoban em .txt usando os símbolos seguintes:\n",
    "```python\n",
    "#   (cardinal)   Parede\n",
    "o   (ó)          Objectivo vazio\n",
    "@   (arroba)     Sokoban no chão\n",
    "+   (soma)       Sokoban num objectivo\n",
    "$   (dólar)      Caixa no chão\n",
    "*   (asterisco)  Caixa no objectivo\n",
    "```\n",
    "Por exemplo o puzzle na imagem\n",
    "<img src=\"imagens\\grandeSokoba.PNG\" alt=\"Drawing\" style=\"width: 175px;\"/> \n",
    "corresponderá ao puzzle .txt:\n",
    "```python\n",
    "\n",
    "                                               #####\n",
    "                                             ###...#\n",
    "                                             #o@$..# \n",
    "                                             ###.$o#\n",
    "                                             #o##$.#\n",
    "                                             #.#.o.##\n",
    "                                             #$.*$$o#\n",
    "                                             #...o..#\n",
    "                                             ########\n",
    "```"
   ]
  },
  {
   "cell_type": "markdown",
   "metadata": {},
   "source": [
    "### 1. Modelização do Sokoban\n",
    "Um dos objectivos é a modelização de qualquer problema de Sokoban como um problema de planeamento usando a linguagem PDDL definida no aima-python. É preciso modelizar as expressões lógicas para exprimir o conhecimento envolvido em qualquer puzzle de Sokoban e os esquemas de acções que permitem ao planeador encontrar o plano para colocar as caixas nos objectivos. Para cada puzzle concreto é preciso representar o conhecimento de base que vai corresponder ao estado inicial do planeador. E é necessário também modelizar os domínios.  \n",
    "\n",
    "Essa modelização é livre, não impomos nada. Vamos fornecer um puzzle Sokoban em modo texto que terão de converter numa instância de `PlanningProblem`, criando o conhecimento de base e os objectivos. No entanto, para resolver um problema de ineficência do código do aima-python como irão ver, não irão ser necessário nem os domínios nem os esquemas das acções. \n",
    "Devido à elevada ineficência do código do aima-python, concretamente o método `expand_actions` da classe `PlanningProblem`, voçês terão de criar código python que gere automaticamente as acções para um dado puzzle."
   ]
  },
  {
   "cell_type": "markdown",
   "metadata": {},
   "source": [
    "### 2. As ineficiências da geração das ações a partir dos esquemas de acções\n",
    "O método `expand_actions` é responsável pela geração das acções concretas a partir dos esquemas das acções.\n",
    "Vejemos como funciona através de um exemplo:\n",
    "<img src=\"imagens\\hanoi.PNG\" alt=\"Drawing\" style=\"width: 175px;\"/> \n",
    "\n",
    "Se tivermos a seguinte modelização do Problema das Torres de Hanói,\n"
   ]
  },
  {
   "cell_type": "code",
   "execution_count": null,
   "metadata": {},
   "outputs": [],
   "source": [
    "from planningPlus import *\n",
    "from logic import *\n",
    "from utils import *\n",
    "from search import *"
   ]
  },
  {
   "cell_type": "code",
   "execution_count": null,
   "metadata": {},
   "outputs": [],
   "source": [
    "estado = [\n",
    "    expr('Sobre(D1,D2)'),\n",
    "    expr('Sobre(D2,D3)'),\n",
    "    expr('Sobre(D3,A)'),\n",
    "    expr('Livre(D1)'),\n",
    "    expr('Livre(B)'),\n",
    "    expr('Livre(C)')\n",
    "]\n",
    "\n",
    "dominio = 'Disco(D1) & Disco(D2) & Disco(D3) & Pino(A) & Pino(B) & Pino(C) & Menor(D1,D2) & ' + \\\n",
    "            'Menor(D2,D3) & Menor(D1,D3) & Menor(D1,A) & Menor(D1,B) & Menor(D1,C) & ' + \\\n",
    "            'Menor(D2,A) & Menor(D2,B) & Menor(D2,C) & Menor(D3,A) & Menor(D3,B) & Menor(D3,C)'\n",
    "\n",
    "goal = 'Sobre(D3,C) & Sobre(D2,D3) & Sobre(D1,D2)'\n",
    "\n",
    "acoes = [Action('Move(d,x,y)', \n",
    "               precond='Livre(d) & Sobre(d,x) & Livre(y)',\n",
    "               effect='Sobre(d,y) & Livre(x) & ~Sobre(d,x) & ~Livre(y)',\n",
    "               domain='Disco(d) & Menor(d,x) & Menor(d,y)')]\n",
    "\n",
    "th = PlanningProblem(initial=estado, goals=goal, actions=acoes, domain=dominio)\n",
    "p = ForwardPlan(th)"
   ]
  },
  {
   "cell_type": "markdown",
   "metadata": {},
   "source": [
    "Ao expandirmos as acções teremos $38$ acções instanciadas com os 6 objectos do domínio, os 3 discos e os 3 pinos:"
   ]
  },
  {
   "cell_type": "code",
   "execution_count": null,
   "metadata": {},
   "outputs": [],
   "source": [
    "th.expand_actions()"
   ]
  },
  {
   "cell_type": "markdown",
   "metadata": {},
   "source": [
    "Na prática, o que o método `expand_actions` faz é gerar todas as permutações dos tuplos $(b,x,y)$ em que qualquer dos seus elementos pode ser um dos objectos. Como não há repetições, teremos $6 \\times 5 \\times 4$ permutações, i.e. $120$. Dessas permutações, que serão tentadas todas, filtram-se as que não satisfazem os domínios, neste caso, $b$ tem que ser um disco e $b$ tem de ser menor do que $x$ e do que $y$.\n",
    "Por exemplo, umas das permutações é $(A,B,C)$, que representa mover o pino $A$ do pino $B$ para o pino $C$, e que falha na satisfação dos domínios: $A$ não é disco. Mais ou menos dois terços das permutações irão para o lixo, mas gasta-se tempo no processo de geração de todas as permutações e na verificação dos domínios."
   ]
  },
  {
   "cell_type": "markdown",
   "metadata": {},
   "source": [
    "Se tivermos 30 objectos, imaginem que temos $27$ discos e os mesmos $3$ pinos, isso quer dizer que serão geradas $30 \\times 29 \\times 28=24360$ permutações e serão filtradas todas as que não satisfaçam os domínios. Se tivermos os mesmos $30$ objectos e tivermos esquemas de acções que envolvem $4$ parâmetros, teremos que verificar $30 \\times 29 \\times 38 \\times 27$ permutações, neste caso: $657720$. Com esta clara inefiência do `expand_actions` o processo de planeamento não escala para problemas mais complexos, o que é o caso dos puzzles mais simples do Sokoban."
   ]
  },
  {
   "cell_type": "markdown",
   "metadata": {},
   "source": [
    "Reparem que sempre que construímos uma instância da classe `ForwardPlan`, que é uma subclasse de `Problem`, a qual recebe uma instância de `PlanningProblem`, as ações são expandidas no construtor, através da invocação do método `expand_actions`, ficando guardadas no atributo `expanded_actions`. Isso quer dizer que para um considerável número de objectos envolvidos, a instânciação dos esquemas que envolvem $3$ ou mais variáveis é insuportavelmente lento, pondo em risco a solução dos puzzles do Sokoban com grelhas de uma dimensão razoável, envolvendo várias caixas."
   ]
  },
  {
   "cell_type": "markdown",
   "metadata": {},
   "source": [
    "## Objectivos\n",
    "<img src=\"Imagens\\sokobanYY.gif\" alt=\"Drawing\" style=\"width: 180px;\"/>\n",
    "\n",
    "Pretendemos que desenvolvam em python a função `sokoban` que recebe como input uma representação em modo txt de um qualquer puzzle Sokoban e que devolva a instância de `ForwardPlan` com o estado inicial, os objectivos e as acções expandidas, de modo a podermos resolver esse puzzle através de um método de procura standard.\n",
    "\n",
    "Notem que para isso, podem gerar uma instância de `PlanningProblem` com o conhecimento de base e os objectivos, não terão de criar os outros dois argumentos: o esquema de acções e os domínios, que podem ser ambos listas vazias. Essa instância de `PlanningProblem` será depois usada como input na construção da instância de `ForwardPlan`. O método `expand_actions` será aplicado a uma lista vazia de esquemas de acções gerando também uma lista vazia. Assim, depois de construirem a instância de `ForwardPlan` terão de gerar todos as acções para esse problema, que guardam no atributo `expanded_actions`. Toda a informação que é preciso para gerar as acções é passada no puzzle txt de input e elas terão de satisfazer o vosso modelo de acções. A intenção é curto-circuitar o método `expand_actions`, construindo logo as acções válidas. Essa instância de `ForwardPlan` estará então pronta a ser usada por um método de procura para encontrar uma solução. \n",
    "\n",
    "Para diminuirem a dimensão do espaço de estados, obrigando o algoritmo de procura a \"antecipar um falhanço\" e evitando assim explorar uma subárvore de estados sem sucesso, devem também considerar não gerar acções que levem as caixas para cantos que não sejam destinos de caixas. Desse modo, diminuiem o número de acções expandidas e aumentam a eficácia do processo de procura. \n",
    "\n",
    "**Melhoria**: Uma sugestão para diminuirem ainda mais o espaço de estado pode ser não criarem acções que empurrem as caixas para linhas ou colunas de fronteira onde não haja destinos para as caixas. Na imagem do puzzle em cima as linhas de topo e de fundo, formadas ambas por $3$ células, são exemplos de linhas fronteira e o mesmo acontece com a coluna mais à direita formada por $6$ células. Uma caixa numa coluna fronteira só pode ser deslocada verticalmente ou horizontalmente, ficando bloqueada nessa linha ou coluna. Se não existir nenhum célula objectivo nesse segmento de linha ou coluna com caixa, quaisquer acções a partir daí levam inevitavelmente a becos sem saída, atrasando o processo de procura. Será assim ideal evitar levar caixas para essas armadilhas.\n",
    "\n",
    "Para os nossos testes, como não conhecemos as acções que modelizaram, iremos usar uma procura em largura em grafo, a qual obtém a solução óptima, e contamos o número de acções da solução. Assim, não dependeremos de qualquer ordem de acções."
   ]
  },
  {
   "cell_type": "markdown",
   "metadata": {},
   "source": [
    "## Exemplos"
   ]
  },
  {
   "cell_type": "markdown",
   "metadata": {},
   "source": [
    "### Exemplo 1\n",
    "```python\n",
    "##########\n",
    "#        #\n",
    "#  $  +  #\n",
    "#        #\n",
    "##########\n",
    "Sol:W-W-N-W-W-S-E-E-E   - 9 passos\n",
    "```\n",
    "\n"
   ]
  },
  {
   "cell_type": "markdown",
   "metadata": {},
   "source": [
    "### Exemplo 2\n",
    "```python\n",
    "####\n",
    "# o#\n",
    "#  ###\n",
    "#*@  #\n",
    "#  $ #\n",
    "#    #\n",
    "######\n",
    "Sol:S-S-E-E-S-W-N-N-N  - 9 passos\n",
    "```"
   ]
  },
  {
   "cell_type": "markdown",
   "metadata": {},
   "source": [
    "### Exemplo 3\n",
    "```python\n",
    "#######\n",
    "#     #\n",
    "#  $  #\n",
    "#     #\n",
    "#@    #\n",
    "#     #\n",
    "#o    #\n",
    "#######\n",
    "Sol: E-E-E-N-N-W-W-N-W-S-S-S-S - 13 passos\n",
    "```"
   ]
  },
  {
   "cell_type": "markdown",
   "metadata": {},
   "source": [
    "### Exemplo 4\n",
    "```python\n",
    "#######\n",
    "# o   #\n",
    "# # # #\n",
    "# # # #\n",
    "# $@  #\n",
    "#     #\n",
    "#######\n",
    "Sol:S-W-W-N-E-S-E-N-N-N-S-S-E-E-E-N-N-N-W-W-W  - 21 passos\n",
    "```\n"
   ]
  },
  {
   "cell_type": "markdown",
   "metadata": {},
   "source": [
    "### Exemplo 5\n",
    "```python\n",
    "  #####\n",
    "###...#\n",
    "#.@$..#\n",
    "###..o#\n",
    "#o##..# \n",
    "#.#...##\n",
    "#$.....#\n",
    "#......#\n",
    "########\n",
    "Sol:E-N-E-S-W-S-E-S-S-W-S-W-S-W-N-N em 16 passos \n",
    "```"
   ]
  },
  {
   "cell_type": "markdown",
   "metadata": {},
   "source": [
    "Exemplo do teste5 em python\n",
    "\n",
    "```python\n",
    "linha1= \"  ##### \\n\"\n",
    "linha2= \"###...# \\n\"\n",
    "linha3= \"#o@$..# \\n\"\n",
    "linha4= \"###.$o# \\n\"\n",
    "linha5= \"#o##..# \\n\"\n",
    "linha6= \"#.#...##\\n\"\n",
    "linha7= \"#$.....#\\n\"\n",
    "linha8= \"#......#\\n\"\n",
    "linha9= \"########\\n\"\n",
    "grelha=linha1+linha2+linha3+linha4+linha5+linha6+linha7+linha8+linha9\n",
    "p=sokoban(grelha)\n",
    "travel_sol = breadth_first_graph_search_plus(p)\n",
    "if travel_sol:\n",
    "    print('Solução em :',len(travel_sol.solution()),'acções')\n",
    "else:\n",
    "    print('No Way!')\n",
    "``` "
   ]
  },
  {
   "cell_type": "markdown",
   "metadata": {},
   "source": [
    "## Submissão\n",
    "\n",
    "### Quizz\n",
    "Cada grupo deve completar a implementação da classe pedida e testá-la no link do *quizz* **Avaliação Contínua v** introduzindo e testando o vosso código. \n",
    "\n",
    "Como dissemos atrás, este *quizz* é constituído por 3 perguntas. As 3 perguntas serão avaliadas através de um conjunto de testes automáticos visíveis e mais alguns testes escondidos, valendo no total 1.75 valores.\n",
    "\n",
    "Podem ir verificando o código (botão check) e submeterem as vezes que quiserem (ambos os elementos do grupo), sendo a submissão com melhor nota a que será considerada.\n",
    "\n",
    "### Prazo\n",
    "A submissão fecha às 23:59 de Terça, 12 de Dezembro.\n",
    "\n",
    "### Ficheiro Python\n",
    "Simultaneamente é necessario submeter o ficheiro Python, que contém todo o código das 3 perguntas, na página da disciplina. Só queremos uma submissão por grupo. Esse ficheiro deve chamar-se *sokoban_IIA_23_24_grupoXX.py* em que substituem XX pelo identificador do grupo. "
   ]
  },
  {
   "cell_type": "markdown",
   "metadata": {},
   "source": [
    "<img src=\"Imagens\\sokobanXX.gif\" alt=\"Drawing\" style=\"width: 200px;\"/>"
   ]
  }
 ],
 "metadata": {
  "kernelspec": {
   "display_name": "Python 3",
   "language": "python",
   "name": "python3"
  },
  "language_info": {
   "codemirror_mode": {
    "name": "ipython",
    "version": 3
   },
   "file_extension": ".py",
   "mimetype": "text/x-python",
   "name": "python",
   "nbconvert_exporter": "python",
   "pygments_lexer": "ipython3",
   "version": "3.7.3"
  }
 },
 "nbformat": 4,
 "nbformat_minor": 4
}
