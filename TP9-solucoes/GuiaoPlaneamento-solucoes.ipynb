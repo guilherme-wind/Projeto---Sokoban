{
 "cells": [
  {
   "cell_type": "markdown",
   "metadata": {},
   "source": [
    "# Introdução à Inteligência Artificial (2022/2023)\n",
    "\n",
    "## Planeamento\n",
    "\n",
    "### Conteúdos\n",
    "\n",
    "* Afirmações lógicas\n",
    "* Classe PlanningProblem\n",
    "    * o conhecimento base\n",
    "    * o objetivo\n",
    "    * a classe Action\n",
    "* Exemplos de formulação de problemas:\n",
    "    * Torre com 3 blocos\n",
    "    * Viagem à Roménia\n",
    "    * Comer bolo\n",
    "* Procura em espaço de estados\n",
    "    * Procura progressiva (Forward)\n",
    "* Exercícios\n",
    "\n",
    "\n",
    "## Introdução\n",
    "\n",
    "Nesta aula vamos formular problemas de planeamento usando a linguagem Python. Como o planeamento combina duas áreas de IA: procura e lógica, é necessário primeiro perceber como se escrevem afirmações lógicas em Python, antes de começarmos a formular problemas de planeamento.\n",
    "\n",
    "\n",
    "### Recursos necessários\n",
    "Para este guião os seguintes módulos são necessários (distribuídos juntamento com o guião):\n",
    "* `planningPlus.py` - módulo principal\n",
    "* `search.py` - módulo principal\n",
    "* `logic.py` - módulo auxiliar\n",
    "* `utils.py` - módulo auxiliar\n",
    "\n",
    "### Convenções sintáticas\n",
    "\n",
    "A utilização deste planeador de Python necessita de algumas convenções, para se definirem predicados, termos, e variáveis. Assim,\n",
    "\n",
    "* Inicial maiúscula para termos e predicados (p.ex., Table, Block(A), On(A,Table), ...)\n",
    "* Inicial minúscula para variáveis (p.ex., x, y, a, ...)"
   ]
  },
  {
   "cell_type": "markdown",
   "metadata": {},
   "source": [
    "## Módulo *planningPlus.py* - breve explicação\n",
    "\n",
    "Este módulo é uma variante muito ligeira do *planning.py* que está disponível no repositório aima-python, que contém a implementação (em Python) da generalidade dos algoritmos descritos no livro da disciplina (Russel & Norvig). Muitas das definições deste módulo não serão utilizadas. Vamos apenas concentrar-nos em algumas das suas classes e funções. No essencial, é disponibilizado o seguinte:\n",
    "\n",
    "* A classe **PlanningProblem** que vamos utilizar para definir problemas de planeamento.\n",
    "* A classe **Action** que é usada para representar um esquema de ação.\n",
    "* As classes **ForwardPlan** e **BackwardPlan** para definir problemas de espaços de estados a serem usados nos algoritmos de procura.\n",
    "\n",
    "Para a parte dedicada à formulação, apenas precisamos de usar as classes **PlanningProblem** e **Action** do módulo, que tem de ser importado, mas não deverão alterá-lo."
   ]
  },
  {
   "cell_type": "code",
   "execution_count": 1,
   "metadata": {},
   "outputs": [],
   "source": [
    "from planningPlus import *\n",
    "from utils import *\n",
    "from search import *"
   ]
  },
  {
   "cell_type": "markdown",
   "metadata": {},
   "source": [
    "## O problema da torre com 3 blocos\n",
    "\n",
    "O dominio deste problema consiste num conjunto de blocos em cima de uma mesa. Os blocos podem ser empilhados, mas apenas um bloco pode ser colocado diretamente em cima de outro. Um robot pode pegar num bloco e movê-lo para outra posição, em cima da mesa ou em cima de outro bloco. O robot apenas pode pegar num bloco de cada vez, o que significa que não pode pegar num bloco que tenha outro em cima. O objetivo é construir uma torre de blocos. A configuração que iremos usar neste exemplo também é conhecida como Anomalia de Sussman.\n",
    "\n",
    "<img src=\"3-blocks.png\" width=\"300\">\n",
    "\n",
    "Pretendemos formular este problema como um problema de planeamento usando PDDL (*Planning Domain Definition Language*). Para definirmos um problema temos de ter:\n",
    "\n",
    "* um conhecimento base\n",
    "* um conjunto de objetivos\n",
    "* um conjunto de esquemas de ações"
   ]
  },
  {
   "cell_type": "markdown",
   "metadata": {},
   "source": [
    "Cada conhecimento base é representado por um conjunto de expressões que descrevem o estado inicial do problema. Essa descrição é feita recorrendo a proposições lógicas de primeira ordem. A representação dos estados é cuidadosamente projetada para que um estado possa ser tratado como uma conjunção de expressões, que pode ser manipulada por inferência lógica, ou como um conjunto de expressões, que podem ser manipuladas com operações definidas.\n",
    "\n",
    "Antes de descrevermos o nosso problema dos blocos, precisamos de perceber como trabalhar com expressões lógicas em Python. "
   ]
  },
  {
   "cell_type": "markdown",
   "metadata": {},
   "source": [
    "## Afirmações lógicas\n",
    "\n",
    "Façamos uma revisão sobre como representamos em python, as expressões lógicas.\n",
    "\n",
    "A classe `Expr` é usada para representar qualquer tipo de expressão lógica. O tipo mais simples de `Expr` que se pode definir usa a função `Symbol`:"
   ]
  },
  {
   "cell_type": "code",
   "execution_count": 2,
   "metadata": {},
   "outputs": [
    {
     "data": {
      "text/plain": [
       "X"
      ]
     },
     "execution_count": 2,
     "metadata": {},
     "output_type": "execute_result"
    }
   ],
   "source": [
    "Symbol('X')"
   ]
  },
  {
   "cell_type": "markdown",
   "metadata": {},
   "source": [
    "Ou pode-se definir múltiplos simbolos ao mesmo tempo com a função `symbols`:"
   ]
  },
  {
   "cell_type": "code",
   "execution_count": 3,
   "metadata": {},
   "outputs": [],
   "source": [
    "(X, Y, P, Q, F) = symbols('X, Y, P, Q, F')"
   ]
  },
  {
   "cell_type": "markdown",
   "metadata": {},
   "source": [
    "Pode-se combinar objetos `Expr` com os operadores de Python (&, ~, |, ...). Se quisessemos formar a afirmação \"P e não Q\", seria da seguinte forma. Repare que P e Q são simbolos definidos anteriormente."
   ]
  },
  {
   "cell_type": "code",
   "execution_count": 4,
   "metadata": {},
   "outputs": [
    {
     "data": {
      "text/plain": [
       "(P & ~Q)"
      ]
     },
     "execution_count": 4,
     "metadata": {},
     "output_type": "execute_result"
    }
   ],
   "source": [
    "P & ~Q"
   ]
  },
  {
   "cell_type": "markdown",
   "metadata": {},
   "source": [
    "Isto funciona porque a classe `Expr` sobrepõe o operador `&` (*overloading*) com a definição:\n",
    "```python\n",
    "def __and__(self, other): return Expr('&',  self, other)\n",
    "```\n",
    "e faz sobreposições semelhantes para outros operadores. Um objeto `Expr` tem dois atributos:\n",
    "\n",
    "* `op` para o operador, que é sempre uma string\n",
    "* `args` para os argumentos, que é um tuplo com zero ou mais expressões\n",
    "\n",
    "Por \"expressões\" entende-se uma instância de `Expr`, ou um número. "
   ]
  },
  {
   "cell_type": "markdown",
   "metadata": {},
   "source": [
    "Se não definirmos os simbolos não é possivel usar os operadores de Python para escrever expressões diretamente."
   ]
  },
  {
   "cell_type": "code",
   "execution_count": 5,
   "metadata": {},
   "outputs": [
    {
     "ename": "NameError",
     "evalue": "name 'A' is not defined",
     "output_type": "error",
     "traceback": [
      "\u001b[1;31m---------------------------------------------------------------------------\u001b[0m",
      "\u001b[1;31mNameError\u001b[0m                                 Traceback (most recent call last)",
      "\u001b[1;32m<ipython-input-5-91c4483f10a3>\u001b[0m in \u001b[0;36m<module>\u001b[1;34m\u001b[0m\n\u001b[1;32m----> 1\u001b[1;33m \u001b[0mA\u001b[0m \u001b[1;33m&\u001b[0m \u001b[0mB\u001b[0m\u001b[1;33m\u001b[0m\u001b[1;33m\u001b[0m\u001b[0m\n\u001b[0m",
      "\u001b[1;31mNameError\u001b[0m: name 'A' is not defined"
     ]
    }
   ],
   "source": [
    "A & B"
   ]
  },
  {
   "cell_type": "markdown",
   "metadata": {},
   "source": [
    "Vamos verificar os atributos de alguns exemplos de objetos `Expr`:"
   ]
  },
  {
   "cell_type": "code",
   "execution_count": 6,
   "metadata": {},
   "outputs": [
    {
     "data": {
      "text/plain": [
       "'&'"
      ]
     },
     "execution_count": 6,
     "metadata": {},
     "output_type": "execute_result"
    }
   ],
   "source": [
    "sentence = P & ~Q\n",
    "sentence.op"
   ]
  },
  {
   "cell_type": "code",
   "execution_count": 7,
   "metadata": {},
   "outputs": [
    {
     "data": {
      "text/plain": [
       "(P, ~Q)"
      ]
     },
     "execution_count": 7,
     "metadata": {},
     "output_type": "execute_result"
    }
   ],
   "source": [
    "sentence.args"
   ]
  },
  {
   "cell_type": "code",
   "execution_count": 8,
   "metadata": {},
   "outputs": [
    {
     "data": {
      "text/plain": [
       "'P'"
      ]
     },
     "execution_count": 8,
     "metadata": {},
     "output_type": "execute_result"
    }
   ],
   "source": [
    "P.op"
   ]
  },
  {
   "cell_type": "code",
   "execution_count": 9,
   "metadata": {},
   "outputs": [
    {
     "data": {
      "text/plain": [
       "()"
      ]
     },
     "execution_count": 9,
     "metadata": {},
     "output_type": "execute_result"
    }
   ],
   "source": [
    "P.args"
   ]
  },
  {
   "cell_type": "markdown",
   "metadata": {},
   "source": [
    "Também se podem definir predicados, como por exemplo"
   ]
  },
  {
   "cell_type": "code",
   "execution_count": 10,
   "metadata": {},
   "outputs": [
    {
     "data": {
      "text/plain": [
       "'P'"
      ]
     },
     "execution_count": 10,
     "metadata": {},
     "output_type": "execute_result"
    }
   ],
   "source": [
    "Pxy = P(X, Y)\n",
    "Pxy.op"
   ]
  },
  {
   "cell_type": "code",
   "execution_count": 11,
   "metadata": {},
   "outputs": [
    {
     "data": {
      "text/plain": [
       "(X, Y)"
      ]
     },
     "execution_count": 11,
     "metadata": {},
     "output_type": "execute_result"
    }
   ],
   "source": [
    "Pxy.args"
   ]
  },
  {
   "cell_type": "markdown",
   "metadata": {},
   "source": [
    "É importante salientar que a classe `Expr` apenas fornece uma forma de \"representar\" expressões. Cada um dos `args` num objeto `Expr` pode ser um símbolo, um número, ou outra `Expr`. Vejemos um exemplo onde usamos números."
   ]
  },
  {
   "cell_type": "markdown",
   "metadata": {},
   "source": [
    "Eis a tabela de operadores que podem ser usados para criar afirmações. Mas existe um problema: queremos usar os operadores de Python para construir afirmações, mas o Python não permite a seta de implicação como operador. Assim, teremos de usar uma notação ligeiramente diferente que o Python permita: `|'==>'|` em vez de apenas `==>`. Em alternativa, pode-se usar a forma mais verbosa do construtor de `Expr`:\n",
    "\n",
    "| Operação                 | Livro | Input Python | Output Python | Input `Expr`\n",
    "|--------------------------|----------------------|-------------------------|---|---|\n",
    "| Negação                 | &not; P      | `~P`                       | `~P` | `Expr('~', P)`\n",
    "| E                      | P &and; Q       | `P & Q`                     | `P & Q` | `Expr('&', P, Q)`\n",
    "| Ou                       | P &or; Q | `P`<tt> &#124; </tt>`Q`| `P`<tt> &#124; </tt>`Q` | `Expr('`&#124;`', P, Q)`\n",
    "| Desigualdade         | P &ne; Q     | `P ^ Q`                | `P ^ Q`  | `Expr('^', P, Q)`\n",
    "| Implicação                  | P &rarr; Q    | `P` <tt>&#124;</tt>`'==>'`<tt>&#124;</tt> `Q`   | `P ==> Q` | `Expr('==>', P, Q)`\n",
    "| Implicação contrária      | Q &larr; P     | `Q` <tt>&#124;</tt>`'<=='`<tt>&#124;</tt> `P`  |`Q <== P` | `Expr('<==', Q, P)`\n",
    "| Equivalência            | P &harr; Q   | `P` <tt>&#124;</tt>`'<=>'`<tt>&#124;</tt> `Q`   |`P <=> Q` | `Expr('<=>', P, Q)`"
   ]
  },
  {
   "cell_type": "code",
   "execution_count": 12,
   "metadata": {},
   "outputs": [
    {
     "data": {
      "text/plain": [
       "(~(P & Q) ==> (~P | ~Q))"
      ]
     },
     "execution_count": 12,
     "metadata": {},
     "output_type": "execute_result"
    }
   ],
   "source": [
    "~(P & Q)  |'==>'|  (~P | ~Q)"
   ]
  },
  {
   "cell_type": "markdown",
   "metadata": {},
   "source": [
    "Equivalentemente,"
   ]
  },
  {
   "cell_type": "code",
   "execution_count": 13,
   "metadata": {},
   "outputs": [
    {
     "data": {
      "text/plain": [
       "(~(P & Q) ==> (~P | ~Q))"
      ]
     },
     "execution_count": 13,
     "metadata": {},
     "output_type": "execute_result"
    }
   ],
   "source": [
    "Expr('==>', ~(P & Q), ~P | ~Q)"
   ]
  },
  {
   "cell_type": "markdown",
   "metadata": {},
   "source": [
    "Existe uma forma mais simples de definir afirmações, usando a função `expr`. Esta função tem como input uma string, e faz \"parsing\" para um objeto `Expr`. A string pode conter os operadores setas: `==>`, `<==`, ou `<==>`, que serão tratados como se fossem operadores de Python. Além disso, `expr` define automaticamente quaisquer dos respectivos simbolos, não é necessário serem pré-definidos (como fizemos com o P e Q)."
   ]
  },
  {
   "cell_type": "code",
   "execution_count": 14,
   "metadata": {},
   "outputs": [
    {
     "data": {
      "text/plain": [
       "(~(P & Q) ==> (~P | ~Q))"
      ]
     },
     "execution_count": 14,
     "metadata": {},
     "output_type": "execute_result"
    }
   ],
   "source": [
    "expr('~(P & Q) ==> (~P | ~Q)')"
   ]
  },
  {
   "cell_type": "markdown",
   "metadata": {},
   "source": [
    "### Para além do universo proposicional"
   ]
  },
  {
   "cell_type": "markdown",
   "metadata": {},
   "source": [
    "Se quisermos escrever a expressão \"O Lápis está sobre a mesa\", usamos predicados da seguinte forma"
   ]
  },
  {
   "cell_type": "code",
   "execution_count": 15,
   "metadata": {},
   "outputs": [],
   "source": [
    "f = expr('Sobre(Lapis,Mesa)')"
   ]
  },
  {
   "cell_type": "markdown",
   "metadata": {},
   "source": [
    "O operador e os argumentos são respetivamente"
   ]
  },
  {
   "cell_type": "code",
   "execution_count": 16,
   "metadata": {},
   "outputs": [
    {
     "data": {
      "text/plain": [
       "'Sobre'"
      ]
     },
     "execution_count": 16,
     "metadata": {},
     "output_type": "execute_result"
    }
   ],
   "source": [
    "f.op"
   ]
  },
  {
   "cell_type": "code",
   "execution_count": 17,
   "metadata": {},
   "outputs": [
    {
     "data": {
      "text/plain": [
       "(Lapis, Mesa)"
      ]
     },
     "execution_count": 17,
     "metadata": {},
     "output_type": "execute_result"
    }
   ],
   "source": [
    "f.args"
   ]
  },
  {
   "cell_type": "markdown",
   "metadata": {},
   "source": [
    "Mais alguns exemplos de predicados que se podem escrever:"
   ]
  },
  {
   "cell_type": "code",
   "execution_count": 18,
   "metadata": {},
   "outputs": [
    {
     "data": {
      "text/plain": [
       "Esta(Disco, Pino)"
      ]
     },
     "execution_count": 18,
     "metadata": {},
     "output_type": "execute_result"
    }
   ],
   "source": [
    "# O disco está no pino\n",
    "expr('Esta(Disco, Pino)')"
   ]
  },
  {
   "cell_type": "code",
   "execution_count": 19,
   "metadata": {},
   "outputs": [
    {
     "data": {
      "text/plain": [
       "Vende(SM, Laranjas)"
      ]
     },
     "execution_count": 19,
     "metadata": {},
     "output_type": "execute_result"
    }
   ],
   "source": [
    "# O supermercado (SM) Vende laranjas\n",
    "expr('Vende(SM, Laranjas)')"
   ]
  },
  {
   "cell_type": "code",
   "execution_count": 20,
   "metadata": {},
   "outputs": [
    {
     "data": {
      "text/plain": [
       "Precede(1, 2)"
      ]
     },
     "execution_count": 20,
     "metadata": {},
     "output_type": "execute_result"
    }
   ],
   "source": [
    "# 1 precede o 2\n",
    "expr('Precede(1,2)')"
   ]
  },
  {
   "cell_type": "code",
   "execution_count": 21,
   "metadata": {},
   "outputs": [
    {
     "data": {
      "text/plain": [
       "~Precede(2, 1)"
      ]
     },
     "execution_count": 21,
     "metadata": {},
     "output_type": "execute_result"
    }
   ],
   "source": [
    "# 2 não precede o 1\n",
    "expr('~Precede(2,1)')"
   ]
  },
  {
   "cell_type": "markdown",
   "metadata": {},
   "source": [
    "## A classe *PlanningProblem*\n",
    "\n",
    "A classe `PlanningProblem` é usada para representar problemas de planeamento. Os seguintes atributos são essenciais para se conseguir definir um problema:\n",
    "\n",
    "* um conhecimento base (*initial*)\n",
    "* objetivos (*goals*)\n",
    "* conjunto de esquemas de ações viáveis (*actions*)\n",
    "* o domínio do problema (*domain*)\n",
    "\n",
    "A seguir apresenta-se o construtor desta classe:\n",
    "\n",
    "```python\n",
    "def __init__(self, initial, goals, actions, domain=None):\n",
    "        self.initial = self.convert(initial) if domain is None else self.convert(initial) + self.convert(domain)\n",
    "        self.goals = self.convert(goals)\n",
    "        self.actions = actions\n",
    "        self.domain = domain\n",
    "```"
   ]
  },
  {
   "cell_type": "markdown",
   "metadata": {},
   "source": [
    "##### O domínio\n",
    "\n",
    "O atributo `domain` do problema é um conjunto de expressões que descrevem a informação estática, i.e., contém informação sobre os tipos, propriedades e relações entre os objetos representados, informação essa que não é alterada com as acções, e também não será alterada durante o processo de procura da solução.\n",
    "\n",
    "Vamos tentar descrever o domínio para o problema dos blocos. Para tal é necessário criar predicados que descrevam os objetos.\n",
    "<img src=\"3-blocks.png\" width=\"300\">"
   ]
  },
  {
   "cell_type": "markdown",
   "metadata": {},
   "source": [
    "Sabemos que temos três blocos (designemo-los por A, B e C) e uma mesa. Então podemos definir o predicado formado por um argumento e o operador 'Bloco', que indica que um determinado objecto é do tiplo bloco. Por exemplo, o domínio irá conter a expressão seguinte, para o bloco A:"
   ]
  },
  {
   "cell_type": "code",
   "execution_count": 22,
   "metadata": {},
   "outputs": [
    {
     "data": {
      "text/plain": [
       "Bloco(A)"
      ]
     },
     "execution_count": 22,
     "metadata": {},
     "output_type": "execute_result"
    }
   ],
   "source": [
    "expr('Bloco(A)')"
   ]
  },
  {
   "cell_type": "markdown",
   "metadata": {},
   "source": [
    "Apenas estamos a considerar os três blocos para o domínio e não consideramos a mesa. Aqui poderíamos ter três alternativas:\n",
    "* dizer que Mesa é mesa (p.ex., `Mesa(Mesa)`), \n",
    "* dizer que Table não é bloco (`~Bloco(Mesa)`), \n",
    "* ou então não dizer nada. \n",
    "\n",
    "Apresentamos o terceiro caso, pois esse objeto não irá sofrer alteração nenhuma durante a aplicação das ações, i.e., nunca usaremos `Mesa(x)` ou `~Bloco(x)` nas pré-condições, ou no domínio ou nos efeitos dos esquemas de ações. Ao contrário dos blocos que irão ser colocados em cima da mesa ou em cima de outro bloco. De facto, precisaremos apenas de restringir as variáveis das ações apenas para os blocos, e assim exigiremos que algumas variáveis do tipo `x` satisfaçam `Bloco(x)` e não serão instanciados para `x=Table`. Se tivessemos mais do que uma mesa e pudessemos transferir blocos entre mesas, então daria jeito termos `Mesa(x)`.\n",
    "\n",
    "Assim, o domínio deste problema é dado por:"
   ]
  },
  {
   "cell_type": "code",
   "execution_count": 23,
   "metadata": {},
   "outputs": [
    {
     "data": {
      "text/plain": [
       "((Bloco(A) & Bloco(B)) & Bloco(C))"
      ]
     },
     "execution_count": 23,
     "metadata": {},
     "output_type": "execute_result"
    }
   ],
   "source": [
    "expr('Bloco(A) & Bloco(B) & Bloco(C)')"
   ]
  },
  {
   "cell_type": "markdown",
   "metadata": {},
   "source": [
    "##### O conhecimento base\n",
    "\n",
    "O atributo `initial` da classe `PlanningProblem`é uma conjunção de expressões que descrevem o conhecimento base do problema. Em qualquer situação, se uma expressão não foi previamente afirmada, então não é conhecida.\n",
    "\n",
    "Vamos tentar descrever o conhecimento base para o problema dos blocos. Para tal é necessário criar operadores que descrevam o ambiente. Por exemplo, sabemos que o bloco A está em cima da mesa (\"A sobre Mesa\"), e então podemos descrever esta situação usando a seguinte expressão:"
   ]
  },
  {
   "cell_type": "code",
   "execution_count": 24,
   "metadata": {},
   "outputs": [
    {
     "data": {
      "text/plain": [
       "Sobre(A, Mesa)"
      ]
     },
     "execution_count": 24,
     "metadata": {},
     "output_type": "execute_result"
    }
   ],
   "source": [
    "expr('Sobre(A, Mesa)')"
   ]
  },
  {
   "cell_type": "markdown",
   "metadata": {},
   "source": [
    "Para que o robô possa pegar num bloco é necessário sabermos que o bloco que se pega não tem nenhum outro por cima. O mesmo acontece quando se quer colocar um bloco em cima de outro, este último tem de estar livre. Vamos arranjar um predicado com o operador `Livre` e um argumento para representar essa informação. Na situação inicial, sabemos que por cima do bloco C não existe nada, que o podemos representar pela expressão:"
   ]
  },
  {
   "cell_type": "code",
   "execution_count": 25,
   "metadata": {},
   "outputs": [
    {
     "data": {
      "text/plain": [
       "Livre(C)"
      ]
     },
     "execution_count": 25,
     "metadata": {},
     "output_type": "execute_result"
    }
   ],
   "source": [
    "expr('Livre(C)')"
   ]
  },
  {
   "cell_type": "markdown",
   "metadata": {},
   "source": [
    "Para este problema, consideramos que a mesa (Mesa) é infinita, e haverá sempre espaço para lá colocar mais um bloco, mesmo que tivessemos uma centena de blocos. Assim, é desnecessário estar a afirmar `Livre(Mesa)`. Poderíamos fazê-lo mas por uma questão de parsimónia (reduzir ao máximo o que é redundante) não o fazemos."
   ]
  },
  {
   "cell_type": "markdown",
   "metadata": {},
   "source": [
    "Assim o conhecimento base do problema (ver figura) pode ser definido diretamente, sem necessitar de previamente terem sido definidos estes predicados, como sendo:"
   ]
  },
  {
   "cell_type": "code",
   "execution_count": 26,
   "metadata": {},
   "outputs": [
    {
     "data": {
      "text/plain": [
       "((((Sobre(A, Mesa) & Sobre(B, Mesa)) & On(C, A)) & Livre(B)) & Livre(C))"
      ]
     },
     "execution_count": 26,
     "metadata": {},
     "output_type": "execute_result"
    }
   ],
   "source": [
    "expr('Sobre(A, Mesa) & Sobre(B, Mesa) & On(C, A) & Livre(B) & Livre(C)')"
   ]
  },
  {
   "cell_type": "markdown",
   "metadata": {},
   "source": [
    "##### Exercício 1\n",
    "Como exprimiria o conhecimento de uma situação em que temos os mesmos 3 blocos, mas cada um deles sobre a mesa?"
   ]
  },
  {
   "cell_type": "code",
   "execution_count": 27,
   "metadata": {},
   "outputs": [
    {
     "data": {
      "text/plain": [
       "(((((Sobre(A, Mesa) & Sobre(B, Mesa)) & Sobre(C, Mesa)) & Livre(A)) & Livre(B)) & Livre(C))"
      ]
     },
     "execution_count": 27,
     "metadata": {},
     "output_type": "execute_result"
    }
   ],
   "source": [
    "### Solução do exercício 1\n",
    "\n",
    "expr('Sobre(A, Mesa) & Sobre(B, Mesa) & Sobre(C, Mesa) & Livre(A) & Livre(B) & Livre(C)')"
   ]
  },
  {
   "cell_type": "markdown",
   "metadata": {},
   "source": [
    "##### O objetivo\n",
    "\n",
    "O atributo `goals` de `PlanningProblem` é uma expressão ou conjunção de expressões (positivas ou negativas) que indicam os objetivos a atingir no problema. No caso deste problema dos blocos, queremos ter o A por cima do B, o B por cima do C e C em cima da mesa. Assim, queremos a expressão"
   ]
  },
  {
   "cell_type": "code",
   "execution_count": 28,
   "metadata": {},
   "outputs": [
    {
     "data": {
      "text/plain": [
       "(Sobre(B, C) & Sobre(A, B))"
      ]
     },
     "execution_count": 28,
     "metadata": {},
     "output_type": "execute_result"
    }
   ],
   "source": [
    "expr('Sobre(B, C) & Sobre(A, B)')"
   ]
  },
  {
   "cell_type": "markdown",
   "metadata": {},
   "source": [
    "Notem também que não temos `Sobre(C,Table)`. Poderíamos fazê-lo mas não parece ser fundamental. Existindo 3 blocos apenas, em que B fica em cima de C e A em cima de B, necessariamente C terá de ficar na mesa, sem termos de o exprimir. Por isso foi omitido do objectivo.\n",
    "\n",
    "Notem que poderíamos também incluir `Livre(A)`na conjunção, mas não é de novo fundamental. A questão é que pelo facto de existirem apenas 3 blocos, A necessariamente ficará livre quando estiver sobre B e quando este está sobre C, e esse predicado será atingido quando os dois da conjunção em cima forem obtidos."
   ]
  },
  {
   "cell_type": "markdown",
   "metadata": {},
   "source": [
    "### Exercício 2\n",
    "Exprimam um novo objetivo do problema dos blocos, considerando que apenas queremos que o bloco B passe a ter um outro bloco por cima."
   ]
  },
  {
   "cell_type": "code",
   "execution_count": 29,
   "metadata": {},
   "outputs": [
    {
     "data": {
      "text/plain": [
       "~Livre(B)"
      ]
     },
     "execution_count": 29,
     "metadata": {},
     "output_type": "execute_result"
    }
   ],
   "source": [
    "# Solução do exercício 2\n",
    "\n",
    "expr('~Livre(B)')"
   ]
  },
  {
   "cell_type": "markdown",
   "metadata": {},
   "source": [
    "### Exercício 3\n",
    "Exprimam um novo objetivo do problema dos blocos, considerando que apenas queremos que o bloco B esteja em cima de qualquer outro bloco."
   ]
  },
  {
   "cell_type": "code",
   "execution_count": 30,
   "metadata": {},
   "outputs": [
    {
     "data": {
      "text/plain": [
       "~Sobre(B, Mesa)"
      ]
     },
     "execution_count": 30,
     "metadata": {},
     "output_type": "execute_result"
    }
   ],
   "source": [
    "# Solução do exercício 3\n",
    "# Basta-nos dizer que B não está sobre a mesa e como não pode estar suspenso, estará que estar em cima de algum bloco\n",
    "\n",
    "expr('~Sobre(B,Mesa)')"
   ]
  },
  {
   "cell_type": "markdown",
   "metadata": {},
   "source": [
    "##### Esquemas de ações\n",
    "\n",
    "O atributo `actions` de `PlanningProblem` contém uma lista de objetos da classe `Action` que representam esquemas de ações que posteriormente podem ser instanciadas e executadas no espaço de procura do problema. Uma instância da classe `Action` é definida pelo nome da ação, uma lista de variáveis usadas na ação, pré-condições, efeitos e domínio. Vamos olhar para o construtor desta classe:\n",
    "\n",
    "```python\n",
    "def __init__(self, action, precond, effect, domain=None):\n",
    "        if isinstance(action, str):\n",
    "            action = expr(action)\n",
    "        self.name = action.op\n",
    "        self.args = action.args\n",
    "        self.precond = self.convert(precond) if domain is None else self.convert(precond) + self.convert(domain)\n",
    "        self.effect = self.convert(effect)\n",
    "        self.domain = domain\n",
    "```\n",
    "\n",
    "Esta classe representa um esquema de ação que inclui uma expressão, um domínio, as pré-condições, e os efeitos após a ação ser aplicada. \n",
    "* Os atributos *name* e *args* provêm do argumento *action* do construtor, o qual é uma instância de `Expr`, ou seja, tem um operador e argumentos (como visto anteriormente). \n",
    "* O atributo *precond* é uma conjunção de expressões (positivas ou negativas) com as pré-condições que devem ser verificadas no estado para se poder aplicar a ação.\n",
    "* o atributo *effect* é uma conjunção de expressões com os efeitos/alterações ao estado após a aplicação da ação.\n",
    "* O atributo *domain* descreve a informação estática do problema associada a uma ação. Evita aumentar as pré-condições com conhecimento estático. A definição deste atributo irá ser importante para a eficiência dos planeadores quando têm ações com variáveis para filtrar as permutações dos objetos do problema que podem gerar regras concretas a partir das regras genéricas.\n",
    "\n",
    "As condições e efeitos negativos são introduzidos usando o simbolo `~` antes da expressão, que internamente é codificado com um `Not` e colocado como prefixo da expressão. Por exemplo, a negação de `Em(obj, loc)` será introduzido como `~Em(obj, loc)` e internamente representado por `NotEm(obj, loc)`. O método `convert` da classe `Action`, para além de converter as negações, pega numa string e faz \"parsing\", removendo as conjunções (se existirem) e retorna uma lista de objetos `Expr`.\n",
    "\n",
    "Vamos ilustrar a execução dos efeitos através de um exemplo. Se nos efeitos de uma acção já innstanciada tivermos `NotEm(O, L)`, retira-se o `Em(O, L)` e insere-se o `NotEm(O, L)`. No caso, de termos um efeito positivo, por exemplo, `Em(O, L)` retira-se o `NotEm(O, L)` se existir e insere-se o `Em(O, L)`\n",
    "\n",
    "Ainda nesta classe, existem outros métodos, incluindo o `check_precond`. Este método verifica se as pré-condições para uma dada ação são válidas, dado um estado. \n",
    "\n",
    "**IMPORTANTE** É preciso salientar que **a variáveis diferentes correspondem sempre a objetos diferentes**, não sendo necessário incluir expressões do género `b != x` nas pré-condições."
   ]
  },
  {
   "cell_type": "markdown",
   "metadata": {},
   "source": [
    "### Esquemas de acções no Problema dos Blocos\n",
    "Vamos então tentar descrever os esquemas de ações do nosso problema dos blocos. Quando descrevemos um esquema de ação, descrevemos de forma genérica, usando variáveis, para que a ação possa ser aplicada a qualquer um dos objetos do problema. Por isso se chamam de esquemas: podem ser instanciados em várias acções concretas. Neste problema existem dois tipos de ações: `MoveParaMesa` e `Move`.\n",
    "\n",
    "* **`MoveParaMesa(b, x)`** -- mover o bloco `b` que está em cima de `x` para a mesa.\n",
    "    * Este esquema de acção apenas se aplica a dois blocos porque não pretendemos mover um objeto que está em cima da mesa para a mesa, nem queremos mover uma mesa que esteja em cima de alguma coisa para a mesa, o que significa que nem `b` nem `x` podem ser mesa, terão de ser blocos. \n",
    "    * nas pré-condições é obrigatório que não exista nada em cima do bloco `b` e é preciso que `b` esteja sobre `x`.\n",
    "    * nas pós-condições sabemos que o bloco `x` passará a estar livre e que `b` passará a estar sobre a mesa e deixará de estar sobre `x`.\n",
    "* **`Move(b, x, y)`** -- mover o bloco `b` que está em `x` para cima de `y`. Neste esquema queremos mover um bloco que pode estar em cima de outro ou em cima da mesa, para cima de outro bloco. \n",
    "    * Assim, no domínio não se coloca `Bloco(x)` porque `x` pode ser a mesa, mas exige-se `Bloco(b)` e `Bloco(y)`.\n",
    "    * Nas pré-condições é necessário desde que ambos `b` e `y` não tenham nada por cima.\n",
    "    * Nas pós-condições teremos que `x` passará a estar livre, que `y` deixará de estar livre e que `b` passará a estar em cima de `y` e não em cima de `x`.\n",
    "    \n",
    "Os domínios das acções levam a que as ações instanciadas com `MoveParaMesa(Mesa, x)`, `MoveParaMesa(x, Mesa)`, `Move(Mesa, x, y)` e `Move(x, y, Mesa)`, em que `x` e `y` são blocos A, B, C ou Mesa, nunca serão geradas no processo de planeamento.\n",
    "\n",
    "Assim o esquema de ações será uma lista de objetos `Action`, um objeto para cada esquema de ação que se queira definir."
   ]
  },
  {
   "cell_type": "code",
   "execution_count": 31,
   "metadata": {},
   "outputs": [
    {
     "name": "stdout",
     "output_type": "stream",
     "text": [
      "[MoveParaMesa(b, x), Move(b, x, y)]\n"
     ]
    }
   ],
   "source": [
    "acoes = [Action('MoveParaMesa(b, x)',\n",
    "                precond='Sobre(b, x) & Livre(b)',\n",
    "                effect='Sobre(b, Mesa) & Livre(x) & ~Sobre(b, x)',\n",
    "                domain='Bloco(b) & Bloco(x)'),\n",
    "         Action('Move(b, x, y)',\n",
    "                precond='Sobre(b, x) & Livre(b) & Livre(y)',\n",
    "                effect='Sobre(b, y) & Livre(x) & ~Sobre(b, x) & ~Livre(y)',\n",
    "                domain='Bloco(b) & Bloco(y)')]\n",
    "print(acoes)"
   ]
  },
  {
   "cell_type": "markdown",
   "metadata": {},
   "source": [
    "### Formular o problema dos blocos\n",
    "\n",
    "Vamos então formular o problema dos blocos, usando tudo o que aprendemos. Para o conhecimento base e o objetivo, não iremos usar o `expr` porque a classe `PlanningProblem` (tal como a classe `Action`) possui um método `convert` para converter strings em objetos `Expr`."
   ]
  },
  {
   "cell_type": "code",
   "execution_count": 32,
   "metadata": {},
   "outputs": [],
   "source": [
    "# conhecimento base\n",
    "kb = 'Sobre(A, Mesa) & Sobre(B, Mesa) & Sobre(C, A) & Livre(B) & Livre(C)'\n",
    "# dominio\n",
    "dominio = 'Bloco(A) & Bloco(B) & Bloco(C)'\n",
    "# objetivo\n",
    "goal = 'Sobre(B, C) & Sobre(A, B)'\n",
    "\n",
    "torre3blocos = PlanningProblem(initial=kb, goals=goal, actions=acoes, domain=dominio)"
   ]
  },
  {
   "cell_type": "markdown",
   "metadata": {},
   "source": [
    "Olhemos para o estado inicial"
   ]
  },
  {
   "cell_type": "code",
   "execution_count": 33,
   "metadata": {},
   "outputs": [
    {
     "name": "stdout",
     "output_type": "stream",
     "text": [
      "[Bloco(A), Bloco(B), Bloco(C), Livre(B), Livre(C), Sobre(A, Mesa), Sobre(B, Mesa), Sobre(C, A)]\n"
     ]
    }
   ],
   "source": [
    "print(torre3blocos.initial)"
   ]
  },
  {
   "cell_type": "markdown",
   "metadata": {},
   "source": [
    "Antes de aplicar alguma ação a este problema, vamos verificar se este problema atingiu o objetivo:"
   ]
  },
  {
   "cell_type": "code",
   "execution_count": 34,
   "metadata": {},
   "outputs": [
    {
     "data": {
      "text/plain": [
       "False"
      ]
     },
     "execution_count": 34,
     "metadata": {},
     "output_type": "execute_result"
    }
   ],
   "source": [
    "torre3blocos.goal_test()"
   ]
  },
  {
   "cell_type": "markdown",
   "metadata": {},
   "source": [
    "Como se pode verificar, ainda não atingiu o objetivo. Vamos ver quais os esquemas de ações que existem:"
   ]
  },
  {
   "cell_type": "code",
   "execution_count": 35,
   "metadata": {},
   "outputs": [
    {
     "name": "stdout",
     "output_type": "stream",
     "text": [
      "MoveParaMesa(b, x)\n",
      "Move(b, x, y)\n"
     ]
    }
   ],
   "source": [
    "for a in torre3blocos.actions:\n",
    "    print(a)"
   ]
  },
  {
   "cell_type": "markdown",
   "metadata": {},
   "source": [
    "### Instanciação dos esquemas de acções no Mundo dos Blocos\n",
    "Apenas representámos esquemas de acções que são parametrizáveis com elementos que têm de pertencer aos domínios descritos.\n",
    "Esses esquemas são descritos através de símbolos minùsculos que representam variáveis e são geradores de acções concretas que envolvem os elementos concretos do mundo que queremos representar, nmeste caso A, B, C e a Mesa."
   ]
  },
  {
   "cell_type": "markdown",
   "metadata": {},
   "source": [
    "Vamos então instanciar os esquemas de acções, usando o método `expand_actions` da classe `Planning_Problem`. Reparem que o campo `domain` na definição dos esquemas tem um papel fundamental na concretização das acções.\n",
    "Estas são todas as acções possíveis dados os 3 blocos"
   ]
  },
  {
   "cell_type": "code",
   "execution_count": 36,
   "metadata": {},
   "outputs": [
    {
     "data": {
      "text/plain": [
       "[MoveParaMesa(B, C),\n",
       " MoveParaMesa(B, A),\n",
       " MoveParaMesa(C, B),\n",
       " MoveParaMesa(C, A),\n",
       " MoveParaMesa(A, B),\n",
       " MoveParaMesa(A, C),\n",
       " Move(B, C, A),\n",
       " Move(B, A, C),\n",
       " Move(B, Mesa, C),\n",
       " Move(B, Mesa, A),\n",
       " Move(C, B, A),\n",
       " Move(C, A, B),\n",
       " Move(C, Mesa, B),\n",
       " Move(C, Mesa, A),\n",
       " Move(A, B, C),\n",
       " Move(A, C, B),\n",
       " Move(A, Mesa, B),\n",
       " Move(A, Mesa, C)]"
      ]
     },
     "execution_count": 36,
     "metadata": {},
     "output_type": "execute_result"
    }
   ],
   "source": [
    "torre3blocos.expand_actions()"
   ]
  },
  {
   "cell_type": "markdown",
   "metadata": {},
   "source": [
    "Importa sublinhar a importância do domínio do planeador e a sua interacção com o domínio do problema. Reparem que só as expressões concretizadas do domínio do problema que envolvem os termos dos próprios blocos é que satisfazem os domínios dos 2 esquemas de acções dados em termos de variáveis.\n",
    "\n",
    "Na prática, existem quatro objetos definidos: A, B, C e Mesa, e todas as permutações destes objetos irão ser testadas em cada um dos esquemas de ações. No entanto, apenas algumas ações serão válidas por causa da filtragem do domínio, que só aceita alguns objetos como sendo blocos.\n",
    "\n",
    "Notem que as ligações entre os objectos do mundo e as variáveis (*bindings*), na permutação, e os parâmetros da acção, são primeiro filtradas pelos domínios e se os satisfizerem então são propagadas tanto para as pré-condições como para os efeitos.\n",
    "\n",
    "Vamos expandir as acções de novo com o modo verboso ligado, em que mostramos tanto as tentativas de instanciação bem sucedidas como as falhadas:"
   ]
  },
  {
   "cell_type": "code",
   "execution_count": 37,
   "metadata": {},
   "outputs": [
    {
     "name": "stdout",
     "output_type": "stream",
     "text": [
      "((Bloco(b) & Bloco(x)) ==> MoveParaMesa(b, x))\n",
      "((Bloco(b) & Bloco(y)) ==> Move(b, x, y))\n",
      "Objectos: {B, C, A, Mesa}\n",
      "\n",
      "Generating concrete actions:\n",
      "\n",
      "SCHEME = MoveParaMesa(b, x) with args = (b, x)\n",
      "\n",
      "Remember, the action scheme is MoveParaMesa(b, x) and permutation = (B, C)\n",
      "bindings = {b: B, x: C} -empty set? False\n",
      "after propagating bindings in the action header = MoveParaMesa(B, C)\n",
      "Lets propagate those bindings towards the preconditions\n",
      "preconds: [Sobre(B, C), Livre(B), Bloco(B), Bloco(C)]\n",
      "and also propagate them to the effects\n",
      "effects: [Sobre(B, Mesa), Livre(C), NotSobre(B, C)]\n",
      "In fact we have created a new concrete action: (MoveParaMesa(B, C), [Sobre(B, C), Livre(B), Bloco(B), Bloco(C)], [Sobre(B, Mesa), Livre(C), NotSobre(B, C)])\n",
      "\n",
      "Remember, the action scheme is MoveParaMesa(b, x) and permutation = (B, A)\n",
      "bindings = {b: B, x: A} -empty set? False\n",
      "after propagating bindings in the action header = MoveParaMesa(B, A)\n",
      "Lets propagate those bindings towards the preconditions\n",
      "preconds: [Sobre(B, A), Livre(B), Bloco(B), Bloco(A)]\n",
      "and also propagate them to the effects\n",
      "effects: [Sobre(B, Mesa), Livre(A), NotSobre(B, A)]\n",
      "In fact we have created a new concrete action: (MoveParaMesa(B, A), [Sobre(B, A), Livre(B), Bloco(B), Bloco(A)], [Sobre(B, Mesa), Livre(A), NotSobre(B, A)])\n",
      "\n",
      "Remember, the action scheme is MoveParaMesa(b, x) and permutation = (B, Mesa)\n",
      "bindings = {b: B, x: Mesa} -empty set? False\n",
      "after propagating bindings in the action header = MoveParaMesa(B, Mesa)\n",
      "domains not satisfied - action not applicable!!!!!!!\n",
      "\n",
      "Remember, the action scheme is MoveParaMesa(b, x) and permutation = (C, B)\n",
      "bindings = {b: C, x: B} -empty set? False\n",
      "after propagating bindings in the action header = MoveParaMesa(C, B)\n",
      "Lets propagate those bindings towards the preconditions\n",
      "preconds: [Sobre(C, B), Livre(C), Bloco(C), Bloco(B)]\n",
      "and also propagate them to the effects\n",
      "effects: [Sobre(C, Mesa), Livre(B), NotSobre(C, B)]\n",
      "In fact we have created a new concrete action: (MoveParaMesa(C, B), [Sobre(C, B), Livre(C), Bloco(C), Bloco(B)], [Sobre(C, Mesa), Livre(B), NotSobre(C, B)])\n",
      "\n",
      "Remember, the action scheme is MoveParaMesa(b, x) and permutation = (C, A)\n",
      "bindings = {b: C, x: A} -empty set? False\n",
      "after propagating bindings in the action header = MoveParaMesa(C, A)\n",
      "Lets propagate those bindings towards the preconditions\n",
      "preconds: [Sobre(C, A), Livre(C), Bloco(C), Bloco(A)]\n",
      "and also propagate them to the effects\n",
      "effects: [Sobre(C, Mesa), Livre(A), NotSobre(C, A)]\n",
      "In fact we have created a new concrete action: (MoveParaMesa(C, A), [Sobre(C, A), Livre(C), Bloco(C), Bloco(A)], [Sobre(C, Mesa), Livre(A), NotSobre(C, A)])\n",
      "\n",
      "Remember, the action scheme is MoveParaMesa(b, x) and permutation = (C, Mesa)\n",
      "bindings = {b: C, x: Mesa} -empty set? False\n",
      "after propagating bindings in the action header = MoveParaMesa(C, Mesa)\n",
      "domains not satisfied - action not applicable!!!!!!!\n",
      "\n",
      "Remember, the action scheme is MoveParaMesa(b, x) and permutation = (A, B)\n",
      "bindings = {b: A, x: B} -empty set? False\n",
      "after propagating bindings in the action header = MoveParaMesa(A, B)\n",
      "Lets propagate those bindings towards the preconditions\n",
      "preconds: [Sobre(A, B), Livre(A), Bloco(A), Bloco(B)]\n",
      "and also propagate them to the effects\n",
      "effects: [Sobre(A, Mesa), Livre(B), NotSobre(A, B)]\n",
      "In fact we have created a new concrete action: (MoveParaMesa(A, B), [Sobre(A, B), Livre(A), Bloco(A), Bloco(B)], [Sobre(A, Mesa), Livre(B), NotSobre(A, B)])\n",
      "\n",
      "Remember, the action scheme is MoveParaMesa(b, x) and permutation = (A, C)\n",
      "bindings = {b: A, x: C} -empty set? False\n",
      "after propagating bindings in the action header = MoveParaMesa(A, C)\n",
      "Lets propagate those bindings towards the preconditions\n",
      "preconds: [Sobre(A, C), Livre(A), Bloco(A), Bloco(C)]\n",
      "and also propagate them to the effects\n",
      "effects: [Sobre(A, Mesa), Livre(C), NotSobre(A, C)]\n",
      "In fact we have created a new concrete action: (MoveParaMesa(A, C), [Sobre(A, C), Livre(A), Bloco(A), Bloco(C)], [Sobre(A, Mesa), Livre(C), NotSobre(A, C)])\n",
      "\n",
      "Remember, the action scheme is MoveParaMesa(b, x) and permutation = (A, Mesa)\n",
      "bindings = {b: A, x: Mesa} -empty set? False\n",
      "after propagating bindings in the action header = MoveParaMesa(A, Mesa)\n",
      "domains not satisfied - action not applicable!!!!!!!\n",
      "\n",
      "Remember, the action scheme is MoveParaMesa(b, x) and permutation = (Mesa, B)\n",
      "bindings = {b: Mesa, x: B} -empty set? False\n",
      "after propagating bindings in the action header = MoveParaMesa(Mesa, B)\n",
      "domains not satisfied - action not applicable!!!!!!!\n",
      "\n",
      "Remember, the action scheme is MoveParaMesa(b, x) and permutation = (Mesa, C)\n",
      "bindings = {b: Mesa, x: C} -empty set? False\n",
      "after propagating bindings in the action header = MoveParaMesa(Mesa, C)\n",
      "domains not satisfied - action not applicable!!!!!!!\n",
      "\n",
      "Remember, the action scheme is MoveParaMesa(b, x) and permutation = (Mesa, A)\n",
      "bindings = {b: Mesa, x: A} -empty set? False\n",
      "after propagating bindings in the action header = MoveParaMesa(Mesa, A)\n",
      "domains not satisfied - action not applicable!!!!!!!\n",
      "\n",
      "SCHEME = Move(b, x, y) with args = (b, x, y)\n",
      "\n",
      "Remember, the action scheme is Move(b, x, y) and permutation = (B, C, A)\n",
      "bindings = {b: B, x: C, y: A} -empty set? False\n",
      "after propagating bindings in the action header = Move(B, C, A)\n",
      "Lets propagate those bindings towards the preconditions\n",
      "preconds: [Sobre(B, C), Livre(B), Livre(A), Bloco(B), Bloco(A)]\n",
      "and also propagate them to the effects\n",
      "effects: [Sobre(B, A), Livre(C), NotSobre(B, C), NotLivre(A)]\n",
      "In fact we have created a new concrete action: (Move(B, C, A), [Sobre(B, C), Livre(B), Livre(A), Bloco(B), Bloco(A)], [Sobre(B, A), Livre(C), NotSobre(B, C), NotLivre(A)])\n",
      "\n",
      "Remember, the action scheme is Move(b, x, y) and permutation = (B, C, Mesa)\n",
      "bindings = {b: B, x: C, y: Mesa} -empty set? False\n",
      "after propagating bindings in the action header = Move(B, C, Mesa)\n",
      "domains not satisfied - action not applicable!!!!!!!\n",
      "\n",
      "Remember, the action scheme is Move(b, x, y) and permutation = (B, A, C)\n",
      "bindings = {b: B, x: A, y: C} -empty set? False\n",
      "after propagating bindings in the action header = Move(B, A, C)\n",
      "Lets propagate those bindings towards the preconditions\n",
      "preconds: [Sobre(B, A), Livre(B), Livre(C), Bloco(B), Bloco(C)]\n",
      "and also propagate them to the effects\n",
      "effects: [Sobre(B, C), Livre(A), NotSobre(B, A), NotLivre(C)]\n",
      "In fact we have created a new concrete action: (Move(B, A, C), [Sobre(B, A), Livre(B), Livre(C), Bloco(B), Bloco(C)], [Sobre(B, C), Livre(A), NotSobre(B, A), NotLivre(C)])\n",
      "\n",
      "Remember, the action scheme is Move(b, x, y) and permutation = (B, A, Mesa)\n",
      "bindings = {b: B, x: A, y: Mesa} -empty set? False\n",
      "after propagating bindings in the action header = Move(B, A, Mesa)\n",
      "domains not satisfied - action not applicable!!!!!!!\n",
      "\n",
      "Remember, the action scheme is Move(b, x, y) and permutation = (B, Mesa, C)\n",
      "bindings = {b: B, x: Mesa, y: C} -empty set? False\n",
      "after propagating bindings in the action header = Move(B, Mesa, C)\n",
      "Lets propagate those bindings towards the preconditions\n",
      "preconds: [Sobre(B, Mesa), Livre(B), Livre(C), Bloco(B), Bloco(C)]\n",
      "and also propagate them to the effects\n",
      "effects: [Sobre(B, C), Livre(Mesa), NotSobre(B, Mesa), NotLivre(C)]\n",
      "In fact we have created a new concrete action: (Move(B, Mesa, C), [Sobre(B, Mesa), Livre(B), Livre(C), Bloco(B), Bloco(C)], [Sobre(B, C), Livre(Mesa), NotSobre(B, Mesa), NotLivre(C)])\n",
      "\n",
      "Remember, the action scheme is Move(b, x, y) and permutation = (B, Mesa, A)\n",
      "bindings = {b: B, x: Mesa, y: A} -empty set? False\n",
      "after propagating bindings in the action header = Move(B, Mesa, A)\n",
      "Lets propagate those bindings towards the preconditions\n",
      "preconds: [Sobre(B, Mesa), Livre(B), Livre(A), Bloco(B), Bloco(A)]\n",
      "and also propagate them to the effects\n",
      "effects: [Sobre(B, A), Livre(Mesa), NotSobre(B, Mesa), NotLivre(A)]\n",
      "In fact we have created a new concrete action: (Move(B, Mesa, A), [Sobre(B, Mesa), Livre(B), Livre(A), Bloco(B), Bloco(A)], [Sobre(B, A), Livre(Mesa), NotSobre(B, Mesa), NotLivre(A)])\n",
      "\n",
      "Remember, the action scheme is Move(b, x, y) and permutation = (C, B, A)\n",
      "bindings = {b: C, x: B, y: A} -empty set? False\n",
      "after propagating bindings in the action header = Move(C, B, A)\n",
      "Lets propagate those bindings towards the preconditions\n",
      "preconds: [Sobre(C, B), Livre(C), Livre(A), Bloco(C), Bloco(A)]\n",
      "and also propagate them to the effects\n",
      "effects: [Sobre(C, A), Livre(B), NotSobre(C, B), NotLivre(A)]\n",
      "In fact we have created a new concrete action: (Move(C, B, A), [Sobre(C, B), Livre(C), Livre(A), Bloco(C), Bloco(A)], [Sobre(C, A), Livre(B), NotSobre(C, B), NotLivre(A)])\n",
      "\n",
      "Remember, the action scheme is Move(b, x, y) and permutation = (C, B, Mesa)\n",
      "bindings = {b: C, x: B, y: Mesa} -empty set? False\n",
      "after propagating bindings in the action header = Move(C, B, Mesa)\n",
      "domains not satisfied - action not applicable!!!!!!!\n",
      "\n",
      "Remember, the action scheme is Move(b, x, y) and permutation = (C, A, B)\n",
      "bindings = {b: C, x: A, y: B} -empty set? False\n",
      "after propagating bindings in the action header = Move(C, A, B)\n",
      "Lets propagate those bindings towards the preconditions\n",
      "preconds: [Sobre(C, A), Livre(C), Livre(B), Bloco(C), Bloco(B)]\n",
      "and also propagate them to the effects\n",
      "effects: [Sobre(C, B), Livre(A), NotSobre(C, A), NotLivre(B)]\n",
      "In fact we have created a new concrete action: (Move(C, A, B), [Sobre(C, A), Livre(C), Livre(B), Bloco(C), Bloco(B)], [Sobre(C, B), Livre(A), NotSobre(C, A), NotLivre(B)])\n",
      "\n",
      "Remember, the action scheme is Move(b, x, y) and permutation = (C, A, Mesa)\n",
      "bindings = {b: C, x: A, y: Mesa} -empty set? False\n",
      "after propagating bindings in the action header = Move(C, A, Mesa)\n",
      "domains not satisfied - action not applicable!!!!!!!\n",
      "\n",
      "Remember, the action scheme is Move(b, x, y) and permutation = (C, Mesa, B)\n",
      "bindings = {b: C, x: Mesa, y: B} -empty set? False\n",
      "after propagating bindings in the action header = Move(C, Mesa, B)\n",
      "Lets propagate those bindings towards the preconditions\n",
      "preconds: [Sobre(C, Mesa), Livre(C), Livre(B), Bloco(C), Bloco(B)]\n",
      "and also propagate them to the effects\n",
      "effects: [Sobre(C, B), Livre(Mesa), NotSobre(C, Mesa), NotLivre(B)]\n",
      "In fact we have created a new concrete action: (Move(C, Mesa, B), [Sobre(C, Mesa), Livre(C), Livre(B), Bloco(C), Bloco(B)], [Sobre(C, B), Livre(Mesa), NotSobre(C, Mesa), NotLivre(B)])\n",
      "\n",
      "Remember, the action scheme is Move(b, x, y) and permutation = (C, Mesa, A)\n",
      "bindings = {b: C, x: Mesa, y: A} -empty set? False\n",
      "after propagating bindings in the action header = Move(C, Mesa, A)\n",
      "Lets propagate those bindings towards the preconditions\n",
      "preconds: [Sobre(C, Mesa), Livre(C), Livre(A), Bloco(C), Bloco(A)]\n",
      "and also propagate them to the effects\n",
      "effects: [Sobre(C, A), Livre(Mesa), NotSobre(C, Mesa), NotLivre(A)]\n",
      "In fact we have created a new concrete action: (Move(C, Mesa, A), [Sobre(C, Mesa), Livre(C), Livre(A), Bloco(C), Bloco(A)], [Sobre(C, A), Livre(Mesa), NotSobre(C, Mesa), NotLivre(A)])\n",
      "\n",
      "Remember, the action scheme is Move(b, x, y) and permutation = (A, B, C)\n",
      "bindings = {b: A, x: B, y: C} -empty set? False\n",
      "after propagating bindings in the action header = Move(A, B, C)\n",
      "Lets propagate those bindings towards the preconditions\n",
      "preconds: [Sobre(A, B), Livre(A), Livre(C), Bloco(A), Bloco(C)]\n",
      "and also propagate them to the effects\n",
      "effects: [Sobre(A, C), Livre(B), NotSobre(A, B), NotLivre(C)]\n",
      "In fact we have created a new concrete action: (Move(A, B, C), [Sobre(A, B), Livre(A), Livre(C), Bloco(A), Bloco(C)], [Sobre(A, C), Livre(B), NotSobre(A, B), NotLivre(C)])\n",
      "\n",
      "Remember, the action scheme is Move(b, x, y) and permutation = (A, B, Mesa)\n",
      "bindings = {b: A, x: B, y: Mesa} -empty set? False\n",
      "after propagating bindings in the action header = Move(A, B, Mesa)\n",
      "domains not satisfied - action not applicable!!!!!!!\n",
      "\n",
      "Remember, the action scheme is Move(b, x, y) and permutation = (A, C, B)\n",
      "bindings = {b: A, x: C, y: B} -empty set? False\n",
      "after propagating bindings in the action header = Move(A, C, B)\n",
      "Lets propagate those bindings towards the preconditions\n",
      "preconds: [Sobre(A, C), Livre(A), Livre(B), Bloco(A), Bloco(B)]\n",
      "and also propagate them to the effects\n",
      "effects: [Sobre(A, B), Livre(C), NotSobre(A, C), NotLivre(B)]\n",
      "In fact we have created a new concrete action: (Move(A, C, B), [Sobre(A, C), Livre(A), Livre(B), Bloco(A), Bloco(B)], [Sobre(A, B), Livre(C), NotSobre(A, C), NotLivre(B)])\n",
      "\n",
      "Remember, the action scheme is Move(b, x, y) and permutation = (A, C, Mesa)\n",
      "bindings = {b: A, x: C, y: Mesa} -empty set? False\n",
      "after propagating bindings in the action header = Move(A, C, Mesa)\n",
      "domains not satisfied - action not applicable!!!!!!!\n",
      "\n",
      "Remember, the action scheme is Move(b, x, y) and permutation = (A, Mesa, B)\n",
      "bindings = {b: A, x: Mesa, y: B} -empty set? False\n",
      "after propagating bindings in the action header = Move(A, Mesa, B)\n",
      "Lets propagate those bindings towards the preconditions\n",
      "preconds: [Sobre(A, Mesa), Livre(A), Livre(B), Bloco(A), Bloco(B)]\n",
      "and also propagate them to the effects\n",
      "effects: [Sobre(A, B), Livre(Mesa), NotSobre(A, Mesa), NotLivre(B)]\n",
      "In fact we have created a new concrete action: (Move(A, Mesa, B), [Sobre(A, Mesa), Livre(A), Livre(B), Bloco(A), Bloco(B)], [Sobre(A, B), Livre(Mesa), NotSobre(A, Mesa), NotLivre(B)])\n",
      "\n",
      "Remember, the action scheme is Move(b, x, y) and permutation = (A, Mesa, C)\n",
      "bindings = {b: A, x: Mesa, y: C} -empty set? False\n",
      "after propagating bindings in the action header = Move(A, Mesa, C)\n",
      "Lets propagate those bindings towards the preconditions\n",
      "preconds: [Sobre(A, Mesa), Livre(A), Livre(C), Bloco(A), Bloco(C)]\n",
      "and also propagate them to the effects\n",
      "effects: [Sobre(A, C), Livre(Mesa), NotSobre(A, Mesa), NotLivre(C)]\n",
      "In fact we have created a new concrete action: (Move(A, Mesa, C), [Sobre(A, Mesa), Livre(A), Livre(C), Bloco(A), Bloco(C)], [Sobre(A, C), Livre(Mesa), NotSobre(A, Mesa), NotLivre(C)])\n",
      "\n",
      "Remember, the action scheme is Move(b, x, y) and permutation = (Mesa, B, C)\n",
      "bindings = {b: Mesa, x: B, y: C} -empty set? False\n",
      "after propagating bindings in the action header = Move(Mesa, B, C)\n",
      "domains not satisfied - action not applicable!!!!!!!\n",
      "\n",
      "Remember, the action scheme is Move(b, x, y) and permutation = (Mesa, B, A)\n",
      "bindings = {b: Mesa, x: B, y: A} -empty set? False\n",
      "after propagating bindings in the action header = Move(Mesa, B, A)\n",
      "domains not satisfied - action not applicable!!!!!!!\n",
      "\n",
      "Remember, the action scheme is Move(b, x, y) and permutation = (Mesa, C, B)\n",
      "bindings = {b: Mesa, x: C, y: B} -empty set? False\n",
      "after propagating bindings in the action header = Move(Mesa, C, B)\n",
      "domains not satisfied - action not applicable!!!!!!!\n",
      "\n",
      "Remember, the action scheme is Move(b, x, y) and permutation = (Mesa, C, A)\n",
      "bindings = {b: Mesa, x: C, y: A} -empty set? False\n",
      "after propagating bindings in the action header = Move(Mesa, C, A)\n",
      "domains not satisfied - action not applicable!!!!!!!\n",
      "\n",
      "Remember, the action scheme is Move(b, x, y) and permutation = (Mesa, A, B)\n",
      "bindings = {b: Mesa, x: A, y: B} -empty set? False\n",
      "after propagating bindings in the action header = Move(Mesa, A, B)\n",
      "domains not satisfied - action not applicable!!!!!!!\n",
      "\n",
      "Remember, the action scheme is Move(b, x, y) and permutation = (Mesa, A, C)\n",
      "bindings = {b: Mesa, x: A, y: C} -empty set? False\n",
      "after propagating bindings in the action header = Move(Mesa, A, C)\n",
      "domains not satisfied - action not applicable!!!!!!!\n"
     ]
    },
    {
     "data": {
      "text/plain": [
       "[MoveParaMesa(B, C),\n",
       " MoveParaMesa(B, A),\n",
       " MoveParaMesa(C, B),\n",
       " MoveParaMesa(C, A),\n",
       " MoveParaMesa(A, B),\n",
       " MoveParaMesa(A, C),\n",
       " Move(B, C, A),\n",
       " Move(B, A, C),\n",
       " Move(B, Mesa, C),\n",
       " Move(B, Mesa, A),\n",
       " Move(C, B, A),\n",
       " Move(C, A, B),\n",
       " Move(C, Mesa, B),\n",
       " Move(C, Mesa, A),\n",
       " Move(A, B, C),\n",
       " Move(A, C, B),\n",
       " Move(A, Mesa, B),\n",
       " Move(A, Mesa, C)]"
      ]
     },
     "execution_count": 37,
     "metadata": {},
     "output_type": "execute_result"
    }
   ],
   "source": [
    "torre3blocos.expand_actions(verbose=True)"
   ]
  },
  {
   "cell_type": "markdown",
   "metadata": {},
   "source": [
    "Se omitirmos o bloco C no domínio do problema, como apresentamos a seguir:"
   ]
  },
  {
   "cell_type": "code",
   "execution_count": 38,
   "metadata": {},
   "outputs": [],
   "source": [
    "# conhecimento base\n",
    "kb = 'Sobre(A, Mesa) & Sobre(B, Mesa) & Sobre(C, A) & Livre(B) & Livre(C)'\n",
    "# dominio\n",
    "dominio = 'Bloco(A) & Bloco(B)'\n",
    "# objetivo\n",
    "goal = 'Sobre(B, C) & Sobre(A, B)'\n",
    "\n",
    "torre3blocos = PlanningProblem(initial=kb, goals=goal, actions=acoes, domain=dominio)"
   ]
  },
  {
   "cell_type": "markdown",
   "metadata": {},
   "source": [
    "ao expandirmos as acções, fazendo"
   ]
  },
  {
   "cell_type": "code",
   "execution_count": 39,
   "metadata": {},
   "outputs": [
    {
     "data": {
      "text/plain": [
       "[MoveParaMesa(B, A),\n",
       " MoveParaMesa(A, B),\n",
       " Move(B, C, A),\n",
       " Move(B, Mesa, A),\n",
       " Move(A, C, B),\n",
       " Move(A, Mesa, B)]"
      ]
     },
     "execution_count": 39,
     "metadata": {},
     "output_type": "execute_result"
    }
   ],
   "source": [
    "torre3blocos.expand_actions()"
   ]
  },
  {
   "cell_type": "markdown",
   "metadata": {},
   "source": [
    "obtivemos muitos menos acções. Afinal, desapareceram todas que impliquem mover o bloco C ou mover para cima do bloco C, porque C deixou de ser considerado como bloco ao desaparecer `Bloco(C)` do domínio do problema."
   ]
  },
  {
   "cell_type": "markdown",
   "metadata": {},
   "source": [
    "E se tivermos um domínio mal definido nas acções, podemos ter um conjunto de acções que não fazem sentido. \n",
    "\n",
    "Por exemplo, retiremos `Bloco(b)` do domínio da acção `MoveParaMesa` e obteremos acções em que se move a `Mesa` de um bloco para a `Mesa` entre outras acções incorrectas. Vejam que embora seja gerada a partir do esquema, essa acção nunca poderia ser realizada porque nunca veria satisfeita uma das suas pré-condições: `Livre(Mesa)`."
   ]
  },
  {
   "cell_type": "code",
   "execution_count": 40,
   "metadata": {},
   "outputs": [
    {
     "name": "stdout",
     "output_type": "stream",
     "text": [
      "[MoveParaMesa(b, x), Move(b, x, y)]\n"
     ]
    },
    {
     "data": {
      "text/plain": [
       "[MoveParaMesa(B, A),\n",
       " MoveParaMesa(C, B),\n",
       " MoveParaMesa(C, A),\n",
       " MoveParaMesa(A, B),\n",
       " MoveParaMesa(Mesa, B),\n",
       " MoveParaMesa(Mesa, A),\n",
       " Move(B, C, A),\n",
       " Move(B, Mesa, A),\n",
       " Move(A, C, B),\n",
       " Move(A, Mesa, B)]"
      ]
     },
     "execution_count": 40,
     "metadata": {},
     "output_type": "execute_result"
    }
   ],
   "source": [
    "acoes = [Action('MoveParaMesa(b, x)',\n",
    "                precond='Sobre(b, x) & Livre(b)',\n",
    "                effect='Sobre(b, Table) & Livre(x) & ~Sobre(b, x)',\n",
    "                domain='Bloco(x)'),\n",
    "         Action('Move(b, x, y)',\n",
    "                precond='Sobre(b, x) & Livre(b) & Livre(y)',\n",
    "                effect='Sobre(b, y) & Livre(x) & ~Sobre(b, x) & ~Livre(y)',\n",
    "                domain='Bloco(b) & Bloco(y)')]\n",
    "print(acoes)\n",
    "\n",
    "threeBlockTower = PlanningProblem(initial=kb, goals=goal, actions=acoes, domain=dominio)\n",
    "\n",
    "threeBlockTower.expand_actions()"
   ]
  },
  {
   "cell_type": "markdown",
   "metadata": {},
   "source": [
    "Verifiquemos o que acontece se os dominios nos esquemas das acções não forem definidos, i.e., a definição de bloco for integrada nas pré-condições dos esquemas de ações. Vamos definir agora o problema *TorreBlocos* onde o esquema de ações não tem o atributo domínio explicitamente definido."
   ]
  },
  {
   "cell_type": "code",
   "execution_count": 41,
   "metadata": {},
   "outputs": [],
   "source": [
    "# ações\n",
    "ac = [Action('MoveParaMesa(b, x)',\n",
    "                precond='Sobre(b, x) & Livre(b) & Bloco(b) & Bloco(x)',\n",
    "                effect='Sobre(b, Mesa) & Livre(x) & ~Sobre(b, x)'\n",
    "               ),\n",
    "         Action('Move(b, x, y)',\n",
    "                precond='Sobre(b, x) & Livre(b) & Livre(y) & Bloco(b) & Bloco(y)',\n",
    "                effect='Sobre(b, y) & Livre(x) & ~Sobre(b, x) & ~Livre(y)'\n",
    "               )]\n",
    "\n",
    "torreBlocos = PlanningProblem(initial=kb, goals=goal, actions=ac, domain=dominio)"
   ]
  },
  {
   "cell_type": "code",
   "execution_count": 42,
   "metadata": {},
   "outputs": [
    {
     "data": {
      "text/plain": [
       "[MoveParaMesa(B, C),\n",
       " MoveParaMesa(B, A),\n",
       " MoveParaMesa(B, Mesa),\n",
       " MoveParaMesa(C, B),\n",
       " MoveParaMesa(C, A),\n",
       " MoveParaMesa(C, Mesa),\n",
       " MoveParaMesa(A, B),\n",
       " MoveParaMesa(A, C),\n",
       " MoveParaMesa(A, Mesa),\n",
       " MoveParaMesa(Mesa, B),\n",
       " MoveParaMesa(Mesa, C),\n",
       " MoveParaMesa(Mesa, A),\n",
       " Move(B, C, A),\n",
       " Move(B, C, Mesa),\n",
       " Move(B, A, C),\n",
       " Move(B, A, Mesa),\n",
       " Move(B, Mesa, C),\n",
       " Move(B, Mesa, A),\n",
       " Move(C, B, A),\n",
       " Move(C, B, Mesa),\n",
       " Move(C, A, B),\n",
       " Move(C, A, Mesa),\n",
       " Move(C, Mesa, B),\n",
       " Move(C, Mesa, A),\n",
       " Move(A, B, C),\n",
       " Move(A, B, Mesa),\n",
       " Move(A, C, B),\n",
       " Move(A, C, Mesa),\n",
       " Move(A, Mesa, B),\n",
       " Move(A, Mesa, C),\n",
       " Move(Mesa, B, C),\n",
       " Move(Mesa, B, A),\n",
       " Move(Mesa, C, B),\n",
       " Move(Mesa, C, A),\n",
       " Move(Mesa, A, B),\n",
       " Move(Mesa, A, C)]"
      ]
     },
     "execution_count": 42,
     "metadata": {},
     "output_type": "execute_result"
    }
   ],
   "source": [
    "torreBlocos.expand_actions()"
   ]
  },
  {
   "cell_type": "markdown",
   "metadata": {},
   "source": [
    "Reparem que foram instanciadas 36 ações (o dobro das ações instanciadas no problema *torre3blocos*). Existem acções como por exemplo `MoveParaMesa(B, Mesa)` (i.e., mover o bloco B que está em cima da mesa para a mesa) a qual não faz nenhum sentido, sendo uma acção totalmente redundante.\n",
    "\n",
    "Muitas destas ações não serão utilizadas porque as pré-condições irão falhar. No entanto, o planeador irá testá-las para saber quais poderá ou não aplicar a um estado, o que fará com que a procura possa ser demorada."
   ]
  },
  {
   "cell_type": "markdown",
   "metadata": {},
   "source": [
    "### Aplicação das acções e verificação de satisfação dos objectivos"
   ]
  },
  {
   "cell_type": "markdown",
   "metadata": {},
   "source": [
    "Redefinamos então o problema dos blocos correctamente."
   ]
  },
  {
   "cell_type": "code",
   "execution_count": 43,
   "metadata": {},
   "outputs": [],
   "source": [
    "# conhecimento base\n",
    "kb = 'Sobre(A, Mesa) & Sobre(B, Mesa) & Sobre(C, A) & Livre(B) & Livre(C)'\n",
    "# dominio\n",
    "dominio = 'Bloco(A) & Bloco(B) & Bloco(C)'\n",
    "# objetivo\n",
    "goal = 'Sobre(B, C) & Sobre(A, B)'\n",
    "\n",
    "torre3blocos = PlanningProblem(initial=kb, goals=goal, actions=acoes, domain=dominio)"
   ]
  },
  {
   "cell_type": "markdown",
   "metadata": {},
   "source": [
    "Vamos aplicar a ação `MoveParaMesa(C,A)` que corresponde ao esquema de ação `MoveParaMesa(x,y)`, quando `x=C` e `y=A`, e verificar se atingiu o objetivo. Reparem que ao aplicarmos uma ação, através do método `act` o estado mudou, sendo o estado resultante guardado no atributo `initial` do problema."
   ]
  },
  {
   "cell_type": "code",
   "execution_count": 44,
   "metadata": {},
   "outputs": [
    {
     "name": "stdout",
     "output_type": "stream",
     "text": [
      "Conhecimento base: [Bloco(A), Bloco(B), Bloco(C), Livre(B), Livre(C), Sobre(A, Mesa), Sobre(B, Mesa), Sobre(C, A)]\n",
      "Estado seguinte: [Bloco(A), Bloco(B), Bloco(C), Livre(A), Livre(B), Livre(C), NotSobre(C, A), Sobre(A, Mesa), Sobre(B, Mesa), Sobre(C, Table)]\n",
      "Objectivo atingido? False\n"
     ]
    }
   ],
   "source": [
    "# conhecimento base\n",
    "print('Conhecimento base:', torre3blocos.initial)\n",
    "# vamos aplicar uma ação ao estado inicial do problema\n",
    "torre3blocos.act(expr('MoveParaMesa(C,A)'))\n",
    "print('Estado seguinte:', torre3blocos.initial)\n",
    "print('Objectivo atingido?',torre3blocos.goal_test())"
   ]
  },
  {
   "cell_type": "markdown",
   "metadata": {},
   "source": [
    "Ao movermos o bloco C, que está em cima do A, para a mesa, desapareceu do estado a expressão `Sobre(C,A)` e foi adicionado `NotSobre(C,A)`. Foram ainda adicionadas mais algumas expressões para descreverem o estado atual: \n",
    "* `Livre(A)` - o bloco A deixou de ter o bloco C em cima, i.e., passou a estar livre\n",
    "* `Sobre(C, Mesa)` - o bloco C passou a estar em cima da mesa\n",
    "\n",
    "Vamos aplicar agora a ação `Move(C, Mesa, A)` a `initial` e ver o que acontece."
   ]
  },
  {
   "cell_type": "code",
   "execution_count": 45,
   "metadata": {},
   "outputs": [
    {
     "name": "stdout",
     "output_type": "stream",
     "text": [
      "Estado atual: [Bloco(A), Bloco(B), Bloco(C), Livre(A), Livre(B), Livre(C), NotSobre(C, A), Sobre(A, Mesa), Sobre(B, Mesa), Sobre(C, Table)]\n",
      "Estado seguinte: [Bloco(A), Bloco(B), Bloco(C), Livre(B), Livre(C), Livre(Table), NotLivre(A), NotSobre(C, Table), Sobre(A, Mesa), Sobre(B, Mesa), Sobre(C, A)]\n",
      "Objectivo atingido? False\n"
     ]
    }
   ],
   "source": [
    "print('Estado atual:', torre3blocos.initial)\n",
    "torre3blocos.act(expr('Move(C,Table,A)'))\n",
    "print('Estado seguinte:', torre3blocos.initial)\n",
    "print('Objectivo atingido?',torre3blocos.goal_test())"
   ]
  },
  {
   "cell_type": "markdown",
   "metadata": {},
   "source": [
    "Reparem agora que voltamos a colocar o bloco C em cima do A, desaparecendo a expressão `NotSobre(C,A)` e `Sobre(C, Table)` e sendo substituidas por `Sobre(C,A)` e `NotSobre(C,Table)`, respetivamente."
   ]
  },
  {
   "cell_type": "markdown",
   "metadata": {},
   "source": [
    "### Exercício 4\n",
    "Modifiquem o objetivo do problema dos blocos, considerando que apenas queremos que o bloco B passe a ter um outro bloco por cima. Apliquem ao estado inicial do problema a acção de mover o C para cima do B e confirmem se atingiu o objectivo."
   ]
  },
  {
   "cell_type": "code",
   "execution_count": 46,
   "metadata": {
    "scrolled": true
   },
   "outputs": [
    {
     "name": "stdout",
     "output_type": "stream",
     "text": [
      "[Bloco(A), Bloco(B), Bloco(C), Livre(B), Livre(C), Sobre(A, Mesa), Sobre(B, Mesa), Sobre(C, A)]\n",
      "[Bloco(A), Bloco(B), Bloco(C), Livre(A), Livre(C), NotLivre(B), NotSobre(C, A), Sobre(A, Mesa), Sobre(B, Mesa), Sobre(C, B)]\n",
      "Atingiu o objetivo? True\n"
     ]
    }
   ],
   "source": [
    "# Solução do exercício 4\n",
    "\n",
    "torreBlocos = PlanningProblem(initial=kb, goals='NotLivre(B)', actions=acoes, domain=dominio)\n",
    "print(torreBlocos.initial)\n",
    "torreBlocos.act(expr('Move(C,A,B)'))\n",
    "print(torreBlocos.initial)\n",
    "print('Atingiu o objetivo?', torreBlocos.goal_test())"
   ]
  },
  {
   "cell_type": "markdown",
   "metadata": {},
   "source": [
    "Regressemos ao problema inicial:"
   ]
  },
  {
   "cell_type": "code",
   "execution_count": 47,
   "metadata": {},
   "outputs": [],
   "source": [
    "# conhecimento base\n",
    "kb = 'Sobre(A, Mesa) & Sobre(B, Mesa) & Sobre(C, A) & Livre(B) & Livre(C)'\n",
    "# dominio\n",
    "dominio = 'Bloco(A) & Bloco(B) & Bloco(C)'\n",
    "# objetivo\n",
    "goal = 'Sobre(B, C) & Sobre(A, B)'\n",
    "\n",
    "acoes = [Action('MoveParaMesa(b, x)',\n",
    "                precond='Sobre(b, x) & Livre(b)',\n",
    "                effect='Sobre(b, Mesa) & Livre(x) & ~Sobre(b, x)',\n",
    "                domain='Bloco(b) & Bloco(x)'),\n",
    "         Action('Move(b, x, y)',\n",
    "                precond='Sobre(b, x) & Livre(b) & Livre(y)',\n",
    "                effect='Sobre(b, y) & Livre(x) & ~Sobre(b, x) & ~Livre(y)',\n",
    "                domain='Bloco(b) & Bloco(y)')]\n",
    "\n",
    "torre3blocos = PlanningProblem(initial=kb, goals=goal, actions=acoes, domain=dominio)"
   ]
  },
  {
   "cell_type": "markdown",
   "metadata": {},
   "source": [
    "e vamos agora aplicar uma série de ações e verificar se atingimos o objetivo."
   ]
  },
  {
   "cell_type": "code",
   "execution_count": 48,
   "metadata": {},
   "outputs": [
    {
     "name": "stdout",
     "output_type": "stream",
     "text": [
      "Atingiu o goal? True\n"
     ]
    }
   ],
   "source": [
    "solution = [expr('MoveParaMesa(C,A)'),\n",
    "            expr('Move(B, Mesa, C)'),\n",
    "            expr('Move(A, Mesa, B)')\n",
    "           ]\n",
    "\n",
    "for action in solution:\n",
    "    torre3blocos.act(action)\n",
    "\n",
    "print('Atingiu o goal?', torre3blocos.goal_test())"
   ]
  },
  {
   "cell_type": "markdown",
   "metadata": {},
   "source": [
    "Vejemos o estado final"
   ]
  },
  {
   "cell_type": "code",
   "execution_count": 49,
   "metadata": {},
   "outputs": [
    {
     "name": "stdout",
     "output_type": "stream",
     "text": [
      "Estado atual: [Bloco(A), Bloco(B), Bloco(C), Livre(A), Livre(Mesa), NotLivre(B), NotLivre(C), NotSobre(A, Mesa), NotSobre(B, Mesa), NotSobre(C, A), Sobre(A, B), Sobre(B, C), Sobre(C, Mesa)]\n"
     ]
    }
   ],
   "source": [
    "print('Estado atual:', torre3blocos.initial)"
   ]
  },
  {
   "cell_type": "markdown",
   "metadata": {},
   "source": [
    "### Um Problema da Formulação:\n",
    "Notem que o predicado `Livre(Mesa)` aparece no estado e não faz sentido. Dissemos logo na descrição do problema que a Mesa é infinita, i.e. está sempre livre.\n",
    "\n",
    "A acção `Move(x,y,z)` deveria ser apenas entre blocos de modo a que fizesse sentido o bloco y ficar livre, i.e., y não deveria ser a mesa (Mesa).\n",
    "\n",
    "Deveriamos ter um outro esquema de acção específico para mover um bloco que estivesse na mesa para cima de outro bloco."
   ]
  },
  {
   "cell_type": "markdown",
   "metadata": {},
   "source": [
    "### Exercício 5\n",
    "Formulem o problema de modo a resolver o problema da formulação indicado em cima, resultando em que não apareçam os predicados `Livre(Table)`. Apliquem as acções que levem ao estado final e confirmem que essas expressões não aparecem."
   ]
  },
  {
   "cell_type": "code",
   "execution_count": 50,
   "metadata": {},
   "outputs": [
    {
     "name": "stdout",
     "output_type": "stream",
     "text": [
      "Estado atual:\n",
      " [Bloco(A), Bloco(B), Bloco(C), Livre(A), NotLivre(B), NotLivre(C), NotSobre(A, Mesa), NotSobre(B, Mesa), NotSobre(C, A), Sobre(A, B), Sobre(B, C), Sobre(C, Mesa)]\n",
      "\n",
      "Atingiu o objectivo? True\n"
     ]
    }
   ],
   "source": [
    "# Solução do 5\n",
    "\n",
    "# cohecimento base\n",
    "kb = 'Sobre(A, Mesa) & Sobre(B, Mesa) & Sobre(C, A) & Livre(B) & Livre(C)'\n",
    "# dominio\n",
    "dominio = 'Bloco(A) & Bloco(B) & Bloco(C)'\n",
    "# objetivo\n",
    "goal = 'Sobre(B, C) & Sobre(A, B)'\n",
    "\n",
    "# ações\n",
    "acoes = [Action('MoveParaMesa(b, x)',\n",
    "                precond='Sobre(b, x) & Livre(b) & Bloco(b) & Bloco(x)',\n",
    "                effect='Sobre(b, Mesa) & Livre(x) & ~Sobre(b, x)',\n",
    "                domain='Bloco(b) & Bloco(x)'\n",
    "               ),\n",
    "         Action('Move(b, x, y)',\n",
    "                precond='Sobre(b, x) & Livre(b) & Livre(y) & Bloco(b) & Bloco(y)',\n",
    "                effect='Sobre(b, y) & Livre(x) & ~Sobre(b, x) & ~Livre(y)',\n",
    "                domain='Bloco(b) & Bloco(x) & Bloco(y)'\n",
    "               ),\n",
    "         Action('MoveDaMesa(b, y)',\n",
    "                precond='Sobre(b, Mesa) & Livre(b) & Livre(y)',\n",
    "                effect='Sobre(b, y)  & ~Sobre(b, Mesa) & ~Livre(y)',\n",
    "                domain='Bloco(b) & Bloco(y)'\n",
    "               )]\n",
    "\n",
    "torreBlocos = PlanningProblem(initial=kb, goals=goal, actions=acoes, domain=dominio)\n",
    "\n",
    "solution = [expr('MoveParaMesa(C,A)'),\n",
    "               expr('MoveDaMesa(B, C)'),\n",
    "               expr('MoveDaMesa(A, B)')\n",
    "           ]\n",
    "\n",
    "for action in solution:\n",
    "    torreBlocos.act(action)\n",
    "\n",
    "print('Estado atual:\\n', torreBlocos.initial)\n",
    "\n",
    "print('\\nAtingiu o objectivo?', torreBlocos.goal_test())"
   ]
  },
  {
   "cell_type": "markdown",
   "metadata": {},
   "source": [
    "### Outro Problema da Formulação:\n",
    "Imaginem que queremos ter como objecctivo que o bloco C não esteja sobre a mesa, o que quer dizer que se estiver sobre A ou sobre B o objectivo estará satisfeito. No entanto com o podemos dizer? Podemos usar a expressão `~Sobre(C,Mesa)`. Se aplicarmos o `goal_test` ao estado inicial do problema na imagem, obteremos `False` e deveria ser `True`."
   ]
  },
  {
   "cell_type": "markdown",
   "metadata": {},
   "source": [
    "Regressemos ao problema inicial, mas em que redefinimos o objectivo:"
   ]
  },
  {
   "cell_type": "code",
   "execution_count": 51,
   "metadata": {},
   "outputs": [
    {
     "data": {
      "text/plain": [
       "[Bloco(A),\n",
       " Bloco(B),\n",
       " Bloco(C),\n",
       " Livre(B),\n",
       " Livre(C),\n",
       " Sobre(A, Mesa),\n",
       " Sobre(B, Mesa),\n",
       " Sobre(C, A)]"
      ]
     },
     "execution_count": 51,
     "metadata": {},
     "output_type": "execute_result"
    }
   ],
   "source": [
    "# conhecimento base\n",
    "kb = 'Sobre(A, Mesa) & Sobre(B, Mesa) & Sobre(C, A) & Livre(B) & Livre(C)'\n",
    "# dominio\n",
    "dominio = 'Bloco(A) & Bloco(B) & Bloco(C)'\n",
    "# objetivo\n",
    "goal = '~Sobre(C, Mesa)'\n",
    "\n",
    "torre3blocos = PlanningProblem(initial=kb, goals=goal, actions=acoes, domain=dominio)\n",
    "torre3blocos.initial"
   ]
  },
  {
   "cell_type": "markdown",
   "metadata": {},
   "source": [
    "Verifiquemos que não satisfaz o objectivo."
   ]
  },
  {
   "cell_type": "code",
   "execution_count": 52,
   "metadata": {},
   "outputs": [
    {
     "data": {
      "text/plain": [
       "False"
      ]
     },
     "execution_count": 52,
     "metadata": {},
     "output_type": "execute_result"
    }
   ],
   "source": [
    "torre3blocos.goal_test()"
   ]
  },
  {
   "cell_type": "markdown",
   "metadata": {},
   "source": [
    "### Exercício 6\n",
    "Notem que não há conhecimento que indique que se um bloco está aqui isso quer dizer que não está acolá. Temos de o dizer explicitamente. Modifiquem o modelo de modo a que o conhecimento de base seja enriquecido com as negações."
   ]
  },
  {
   "cell_type": "code",
   "execution_count": 54,
   "metadata": {},
   "outputs": [
    {
     "data": {
      "text/plain": [
       "True"
      ]
     },
     "execution_count": 54,
     "metadata": {},
     "output_type": "execute_result"
    }
   ],
   "source": [
    "# situação inicial\n",
    "kb = 'Sobre(A, Mesa) & Sobre(B, Mesa) & Sobre(C, A) & Livre(B) & Livre(C) & ~Livre(A) & ~Sobre(A,B) & ~Sobre(A,C) &\\\n",
    "      ~Sobre(B,A) & ~Sobre(B,C) & ~Sobre(C,B) & ~Sobre(C,Mesa)'\n",
    "# dominio\n",
    "dominio = 'Bloco(A) & Bloco(B) & Bloco(C)'\n",
    "# objetivo\n",
    "goal = '~Sobre(C, Mesa)'\n",
    "# ações\n",
    "# ações\n",
    "acoes = [Action('MoveParaMesa(b, x)',\n",
    "                precond='Sobre(b, x) & Livre(b) & Bloco(b) & Bloco(x)',\n",
    "                effect='Sobre(b, Mesa) & Livre(x) & ~Sobre(b, x)',\n",
    "                domain='Bloco(b) & Bloco(x)'\n",
    "               ),\n",
    "         Action('Move(b, x, y)',\n",
    "                precond='Sobre(b, x) & Livre(b) & Livre(y) & Bloco(b) & Bloco(y)',\n",
    "                effect='Sobre(b, y) & Livre(x) & ~Sobre(b, x) & ~Livre(y)',\n",
    "                domain='Bloco(b) & Bloco(x) & Bloco(y)'\n",
    "               ),\n",
    "         Action('MoveDaMesa(b, y)',\n",
    "                precond='Sobre(b, Mesa) & Livre(b) & Livre(y)',\n",
    "                effect='Sobre(b, y)  & ~Sobre(b, Mesa) & ~Livre(y)',\n",
    "                domain='Bloco(b) & Bloco(y)'\n",
    "               )]\n",
    "\n",
    "torre3blocos = PlanningProblem(initial=kb, goals=goal, actions=acoes, domain=dominio)\n",
    "torre3blocos.initial\n",
    "torre3blocos.goal_test()"
   ]
  },
  {
   "cell_type": "markdown",
   "metadata": {},
   "source": [
    "## Outro Exemplo: Viagem à Roménia\n",
    "\n",
    "Vamos tentar planear uma viagem  considerando um mapa simplificado da Roménia. \n",
    "<img src=\"romania.png\" width=\"250\">"
   ]
  },
  {
   "cell_type": "markdown",
   "metadata": {},
   "source": [
    "O conhecimento base indica apenas a nossa localização no mapa (*Sibiu*). A informação sobre que cidades estão interligadas por estradas e quais têm aeroportos é informação estática do nosso problema, sendo definida no dominio. No entanto, não é necessário representar cidades, como por exemplo, `Cidade(Sibiu)`, porque todas são cidades. Para além disso, não iremos representar ligações simétricas entre cidades."
   ]
  },
  {
   "cell_type": "code",
   "execution_count": 55,
   "metadata": {},
   "outputs": [],
   "source": [
    "# conhecimento base\n",
    "kb = 'Em(Sibiu)'\n",
    "# dominio\n",
    "prob_dominio = 'Aeroporto(Sibiu) & Aeroporto(Buchuresti) & Aeroporto(Craiova) & Ligada(Buchuresti,Pitesti)' + \\\n",
    "                ' & Ligada(Pitesti,Rimnicu) & Ligada(Rimnicu,Sibiu) & Ligada(Sibiu,Fagaras)' + \\\n",
    "                '& Ligada(Fagaras,Buchuresti) & Ligada(Pitesti,Craiova) & Ligada(Craiova,Rimnicu)'"
   ]
  },
  {
   "cell_type": "markdown",
   "metadata": {},
   "source": [
    "Vamos agora descrever esquemas de ações para o problema. Sabemos que podemos ir de carro entre quaisquer lugares ligados. Mas como é evidente, também podemos ir de avião entre Sibiu, Buchuresti e Craiova.\n",
    "\n",
    "Vamos definir as ações de voar desta forma:"
   ]
  },
  {
   "cell_type": "code",
   "execution_count": 56,
   "metadata": {},
   "outputs": [],
   "source": [
    "# Voa de qualquer cidade com aeroporto para qualquer outra com aeroporto\n",
    "precond = 'Em(x)'\n",
    "efeito = 'Em(y) & ~Em(x)'\n",
    "dominio = 'Aeroporto(x) & Aeroporto(y)'\n",
    "voa = Action('Voa(x, y)', precond, efeito, dominio)"
   ]
  },
  {
   "cell_type": "markdown",
   "metadata": {},
   "source": [
    "E qualquer ação de conduzir desta forma:"
   ]
  },
  {
   "cell_type": "code",
   "execution_count": 57,
   "metadata": {},
   "outputs": [],
   "source": [
    "# vai por estrada de x para y\n",
    "precond = 'Em(x)'\n",
    "efeito = 'Em(y) & ~Em(x)'\n",
    "dominio = 'Ligada(x,y)'\n",
    "conduz = Action('Conduz(x, y)', precond, efeito, dominio)\n",
    "\n",
    "# vai por estrada de y para x -- usa a ligação simétrica Ligada(y,x)\n",
    "precond = 'Em(x)'\n",
    "efeito = 'Em(y) & ~Em(x)'\n",
    "dominio = 'Ligada(y,x)'\n",
    "conduz_sim = Action('ConduzInv(x, y)', precond, efeito, dominio)"
   ]
  },
  {
   "cell_type": "markdown",
   "metadata": {},
   "source": [
    "O nosso objetivo é definido como chegar a Buchuresti."
   ]
  },
  {
   "cell_type": "code",
   "execution_count": 58,
   "metadata": {},
   "outputs": [],
   "source": [
    "objectivos = 'Em(Buchuresti)'"
   ]
  },
  {
   "cell_type": "markdown",
   "metadata": {},
   "source": [
    "Assim, podemos definir o seguinte problema de planeamento:"
   ]
  },
  {
   "cell_type": "code",
   "execution_count": 59,
   "metadata": {},
   "outputs": [],
   "source": [
    "prob = PlanningProblem(kb, objectivos, [voa, conduz, conduz_sim], prob_dominio)"
   ]
  },
  {
   "cell_type": "markdown",
   "metadata": {},
   "source": [
    "Tal como anteriormente vamos testar se atingiu o objetivo e aplicar algumas ações a este problema."
   ]
  },
  {
   "cell_type": "code",
   "execution_count": 60,
   "metadata": {},
   "outputs": [
    {
     "name": "stdout",
     "output_type": "stream",
     "text": [
      "Objetivo? False\n"
     ]
    }
   ],
   "source": [
    "print('Objetivo?', prob.goal_test())"
   ]
  },
  {
   "cell_type": "code",
   "execution_count": 61,
   "metadata": {},
   "outputs": [
    {
     "name": "stdout",
     "output_type": "stream",
     "text": [
      "Conhecimento base: [Aeroporto(Buchuresti), Aeroporto(Craiova), Aeroporto(Sibiu), Em(Sibiu), Ligada(Buchuresti, Pitesti), Ligada(Craiova, Rimnicu), Ligada(Fagaras, Buchuresti), Ligada(Pitesti, Craiova), Ligada(Pitesti, Rimnicu), Ligada(Rimnicu, Sibiu), Ligada(Sibiu, Fagaras)]\n"
     ]
    }
   ],
   "source": [
    "print('Conhecimento base:', prob.initial)"
   ]
  },
  {
   "cell_type": "markdown",
   "metadata": {},
   "source": [
    "Reparem que o dominio do problema é sempre adicionado ao conhecimento base.\n",
    "\n",
    "Vamos agora aplicar uma ação de voar entre Sibiu e Bucharest."
   ]
  },
  {
   "cell_type": "code",
   "execution_count": 62,
   "metadata": {},
   "outputs": [
    {
     "name": "stdout",
     "output_type": "stream",
     "text": [
      "Estado após aplicar ação de voar: [Aeroporto(Buchuresti), Aeroporto(Craiova), Aeroporto(Sibiu), Em(Buchuresti), Ligada(Buchuresti, Pitesti), Ligada(Craiova, Rimnicu), Ligada(Fagaras, Buchuresti), Ligada(Pitesti, Craiova), Ligada(Pitesti, Rimnicu), Ligada(Rimnicu, Sibiu), Ligada(Sibiu, Fagaras), NotEm(Sibiu)]\n"
     ]
    }
   ],
   "source": [
    "prob.act(expr('Voa(Sibiu, Buchuresti)'))\n",
    "print('Estado após aplicar ação de voar:', prob.initial)"
   ]
  },
  {
   "cell_type": "markdown",
   "metadata": {},
   "source": [
    "Vamos agora assumir que estamos em Pitesti e queremos viajar para Buchuresti. Reparem que não existem voos entre estas duas cidades, o que significa que terá de ser uma viagem por carro."
   ]
  },
  {
   "cell_type": "code",
   "execution_count": 63,
   "metadata": {},
   "outputs": [
    {
     "name": "stdout",
     "output_type": "stream",
     "text": [
      "Conhecimento base: [Aeroporto(Buchuresti), Aeroporto(Craiova), Aeroporto(Sibiu), Em(Pitesti), Ligada(Buchuresti, Pitesti), Ligada(Craiova, Rimnicu), Ligada(Fagaras, Buchuresti), Ligada(Pitesti, Craiova), Ligada(Pitesti, Rimnicu), Ligada(Rimnicu, Sibiu), Ligada(Sibiu, Fagaras)]\n"
     ]
    }
   ],
   "source": [
    "prob = PlanningProblem('Em(Pitesti)', objectivos, [voa, conduz, conduz_sim], prob_dominio)\n",
    "print('Conhecimento base:', prob.initial)"
   ]
  },
  {
   "cell_type": "markdown",
   "metadata": {},
   "source": [
    "Vamos fazer a viagem por carro entre Pitesti e Buchuresti. Reparem que na nossa *knowledge_base* definimos a ligação `Ligada(Buchuresti, Pitesti)`, mas não ao contrário. O que significa que não poderemos aplicar a acção `Conduz`iremos usar a segunda ação `ConduzInv(Pitesti, Buchuresti)`."
   ]
  },
  {
   "cell_type": "code",
   "execution_count": 64,
   "metadata": {},
   "outputs": [
    {
     "name": "stdout",
     "output_type": "stream",
     "text": [
      "Estado após aplicar ação de conduzir: [Aeroporto(Buchuresti), Aeroporto(Craiova), Aeroporto(Sibiu), Em(Buchuresti), Ligada(Buchuresti, Pitesti), Ligada(Craiova, Rimnicu), Ligada(Fagaras, Buchuresti), Ligada(Pitesti, Craiova), Ligada(Pitesti, Rimnicu), Ligada(Rimnicu, Sibiu), Ligada(Sibiu, Fagaras), NotEm(Pitesti)]\n"
     ]
    }
   ],
   "source": [
    "prob.act(expr('ConduzInv(Pitesti,Buchuresti)'))\n",
    "print('Estado após aplicar ação de conduzir:', prob.initial)"
   ]
  },
  {
   "cell_type": "code",
   "execution_count": 65,
   "metadata": {},
   "outputs": [
    {
     "name": "stdout",
     "output_type": "stream",
     "text": [
      "Objetivo? True\n"
     ]
    }
   ],
   "source": [
    "print('Objetivo?',prob.goal_test())"
   ]
  },
  {
   "cell_type": "markdown",
   "metadata": {},
   "source": [
    "## Mais um exemplo: Comer bolo"
   ]
  },
  {
   "cell_type": "markdown",
   "metadata": {},
   "source": [
    "Vamos formular um problema de comer um bolo, i.e., o agente quer comer um bolo (este é objetivo). O que significa que se o agente tem um bolo, come-o. Se não tem um bolo, faz um, e ao fazer um bolo, passa a ter um e, consequentemente, pode comê-lo. Vamos assumir que inicialmente não existe bolo. \n",
    "\n",
    "Este é um exemplo muito simples onde se pretende mostrar que é possivel formular problemas de planeamento cujo o conhecimento base e as pré-condições têm expressões negadas. "
   ]
  },
  {
   "cell_type": "code",
   "execution_count": 66,
   "metadata": {},
   "outputs": [],
   "source": [
    "inicial = '~Ha(Bolo)'\n",
    "objectivo = 'Comeu(Bolo)'"
   ]
  },
  {
   "cell_type": "markdown",
   "metadata": {},
   "source": [
    "As ações serão comer um bolo `Come(Bolo)` e fazer um bolo `Cozinha(Bolo)`. Aqui temos que ter atenção às pré-condições que iremos definir. Só poderemos fazer um bolo se não existir um bolo."
   ]
  },
  {
   "cell_type": "code",
   "execution_count": 67,
   "metadata": {},
   "outputs": [],
   "source": [
    "accoes = [Action('Come(Bolo)',\n",
    "                  precond='Ha(Bolo)',\n",
    "                  effect='Comeu(Bolo) & ~Ha(Bolo)'),\n",
    "          Action('Cozinha(Bolo)',\n",
    "                  precond='~Ha(Bolo)',\n",
    "                  effect='Ha(Bolo)')]"
   ]
  },
  {
   "cell_type": "markdown",
   "metadata": {},
   "source": [
    "Criemos o problema de planeamento e espreitemos o seu estado inicial"
   ]
  },
  {
   "cell_type": "code",
   "execution_count": 68,
   "metadata": {},
   "outputs": [],
   "source": [
    "bolo = PlanningProblem(initial=inicial, goals=objectivo, actions=accoes)"
   ]
  },
  {
   "cell_type": "code",
   "execution_count": 69,
   "metadata": {},
   "outputs": [
    {
     "data": {
      "text/plain": [
       "[NotHa(Bolo)]"
      ]
     },
     "execution_count": 69,
     "metadata": {},
     "output_type": "execute_result"
    }
   ],
   "source": [
    "bolo.initial"
   ]
  },
  {
   "cell_type": "markdown",
   "metadata": {},
   "source": [
    "A ordem pela qual aplicamos as ações é importante, pois não podemos aplicar a ação de comer um bolo se esse bolo não existir, ou seja, tem de se fazer o bolo para que a pré-condição da ação `Come(Bolo)` seja satisfeita."
   ]
  },
  {
   "cell_type": "code",
   "execution_count": 70,
   "metadata": {},
   "outputs": [
    {
     "ename": "Exception",
     "evalue": "Action 'Come(Bolo)' pre-conditions not satisfied",
     "output_type": "error",
     "traceback": [
      "\u001b[1;31m---------------------------------------------------------------------------\u001b[0m",
      "\u001b[1;31mException\u001b[0m                                 Traceback (most recent call last)",
      "\u001b[1;32m<ipython-input-70-ee8e6ecad11e>\u001b[0m in \u001b[0;36m<module>\u001b[1;34m\u001b[0m\n\u001b[1;32m----> 1\u001b[1;33m \u001b[0mbolo\u001b[0m\u001b[1;33m.\u001b[0m\u001b[0mact\u001b[0m\u001b[1;33m(\u001b[0m\u001b[0mexpr\u001b[0m\u001b[1;33m(\u001b[0m\u001b[1;34m'Come(Bolo)'\u001b[0m\u001b[1;33m)\u001b[0m\u001b[1;33m)\u001b[0m\u001b[1;33m\u001b[0m\u001b[1;33m\u001b[0m\u001b[0m\n\u001b[0m",
      "\u001b[1;32m~\\Downloads\\TP9-solucoes (1)\\TP9-solucoes\\planningPlus.py\u001b[0m in \u001b[0;36mact\u001b[1;34m(self, action)\u001b[0m\n\u001b[0;32m    297\u001b[0m             \u001b[1;32mraise\u001b[0m \u001b[0mException\u001b[0m\u001b[1;33m(\u001b[0m\u001b[1;34m\"Action '{}' not found\"\u001b[0m\u001b[1;33m.\u001b[0m\u001b[0mformat\u001b[0m\u001b[1;33m(\u001b[0m\u001b[0maction_name\u001b[0m\u001b[1;33m)\u001b[0m\u001b[1;33m)\u001b[0m\u001b[1;33m\u001b[0m\u001b[1;33m\u001b[0m\u001b[0m\n\u001b[0;32m    298\u001b[0m         \u001b[1;32mif\u001b[0m \u001b[1;32mnot\u001b[0m \u001b[0mlist_action\u001b[0m\u001b[1;33m.\u001b[0m\u001b[0mcheck_precond\u001b[0m\u001b[1;33m(\u001b[0m\u001b[0mself\u001b[0m\u001b[1;33m.\u001b[0m\u001b[0minitial\u001b[0m\u001b[1;33m,\u001b[0m \u001b[0margs\u001b[0m\u001b[1;33m)\u001b[0m\u001b[1;33m:\u001b[0m\u001b[1;33m\u001b[0m\u001b[1;33m\u001b[0m\u001b[0m\n\u001b[1;32m--> 299\u001b[1;33m             \u001b[1;32mraise\u001b[0m \u001b[0mException\u001b[0m\u001b[1;33m(\u001b[0m\u001b[1;34m\"Action '{}' pre-conditions not satisfied\"\u001b[0m\u001b[1;33m.\u001b[0m\u001b[0mformat\u001b[0m\u001b[1;33m(\u001b[0m\u001b[0maction\u001b[0m\u001b[1;33m)\u001b[0m\u001b[1;33m)\u001b[0m\u001b[1;33m\u001b[0m\u001b[1;33m\u001b[0m\u001b[0m\n\u001b[0m\u001b[0;32m    300\u001b[0m         \u001b[0mself\u001b[0m\u001b[1;33m.\u001b[0m\u001b[0minitial\u001b[0m \u001b[1;33m=\u001b[0m \u001b[0mlist_action\u001b[0m\u001b[1;33m(\u001b[0m\u001b[0mself\u001b[0m\u001b[1;33m.\u001b[0m\u001b[0minitial\u001b[0m\u001b[1;33m,\u001b[0m \u001b[0margs\u001b[0m\u001b[1;33m)\u001b[0m\u001b[1;33m.\u001b[0m\u001b[0mclauses\u001b[0m\u001b[1;33m\u001b[0m\u001b[1;33m\u001b[0m\u001b[0m\n\u001b[0;32m    301\u001b[0m \u001b[1;33m\u001b[0m\u001b[0m\n",
      "\u001b[1;31mException\u001b[0m: Action 'Come(Bolo)' pre-conditions not satisfied"
     ]
    }
   ],
   "source": [
    "bolo.act(expr('Come(Bolo)'))"
   ]
  },
  {
   "cell_type": "markdown",
   "metadata": {},
   "source": [
    "Vamos aplicar a ação de fazer um bolo e depois comer o bolo, para verificarmos o objetivo."
   ]
  },
  {
   "cell_type": "code",
   "execution_count": 71,
   "metadata": {},
   "outputs": [
    {
     "name": "stdout",
     "output_type": "stream",
     "text": [
      "Estado inicial: [NotHa(Bolo)]\n",
      "Estado após ação de fazer bolo: [Ha(Bolo)]\n"
     ]
    }
   ],
   "source": [
    "print('Estado inicial:', bolo.initial)\n",
    "bolo.act(expr('Cozinha(Bolo)'))\n",
    "print('Estado após ação de fazer bolo:', bolo.initial)"
   ]
  },
  {
   "cell_type": "markdown",
   "metadata": {},
   "source": [
    "Reparem que o estado atual consiste em ter o bolo, logo pode ser aplicada a ação de comer o bolo, a pré-condição está satisfeita."
   ]
  },
  {
   "cell_type": "code",
   "execution_count": 72,
   "metadata": {},
   "outputs": [
    {
     "name": "stdout",
     "output_type": "stream",
     "text": [
      "Estado após ação comer bolo: [Comeu(Bolo), NotHa(Bolo)]\n",
      "Atingiu objetivo? True\n"
     ]
    }
   ],
   "source": [
    "bolo.act(expr('Come(Bolo)'))\n",
    "print('Estado após ação comer bolo:', bolo.initial)\n",
    "print('Atingiu objetivo?', bolo.goal_test())"
   ]
  },
  {
   "cell_type": "markdown",
   "metadata": {},
   "source": [
    "## Exercício 7\n",
    "\n",
    "Consideremos o problema de trocar um pneu furado num carro. O pneu furado (`Furado`) encontra-se no eixo do carro (`Eixo`) e o pneu sobressalente (`Sobressalente`) na bagageira (`Bagageira`). O objetivo é colocar o pneu sobressalente no eixo do carro e o pneu furado na bagageira mas é preciso usar o chão (`Chao`) como espaço intermédio. Formule este problema como um problema de planeamento.\n",
    "\n",
    "**Dica:** Temos como dominio do problema os dois pneus (`Pneu(Furado) & Pneu(Sobressalente)`).  Por exemplo, podemos modelizar com uma única acção: `Coloca` para colocar um objecto que está num determinado lugar noutro (por exemplo, retira o pneu do chão e colocá-lo no eixo)."
   ]
  },
  {
   "cell_type": "code",
   "execution_count": 73,
   "metadata": {},
   "outputs": [
    {
     "name": "stdout",
     "output_type": "stream",
     "text": [
      "Vamos colocar o pneu sobressalente no chão\n",
      "[Esta(Furado, Eixo), Esta(Sobressalente, Chao), NotEsta(Sobressalente, Bagageira), Pneu(Furado), Pneu(Sobressalente)]\n",
      "Vamos colocar o pneu furado também no chão\n",
      "[Esta(Furado, Chao), Esta(Sobressalente, Chao), NotEsta(Furado, Eixo), NotEsta(Sobressalente, Bagageira), Pneu(Furado), Pneu(Sobressalente)]\n",
      "Vamos colocar o pneu sobressalente no eixo\n",
      "[Esta(Furado, Chao), Esta(Sobressalente, Eixo), NotEsta(Furado, Eixo), NotEsta(Sobressalente, Bagageira), NotEsta(Sobressalente, Chao), Pneu(Furado), Pneu(Sobressalente)]\n",
      "Vamos colocar o pneu furado na bagageira\n",
      "[Esta(Furado, Bagageira), Esta(Sobressalente, Eixo), NotEsta(Furado, Chao), NotEsta(Furado, Eixo), NotEsta(Sobressalente, Bagageira), NotEsta(Sobressalente, Chao), Pneu(Furado), Pneu(Sobressalente)]\n",
      "Objetivo? True\n"
     ]
    }
   ],
   "source": [
    "# Resolução do exercicio 6\n",
    "\n",
    "pneu_furado = PlanningProblem(initial='Esta(Furado, Eixo) & Esta(Sobressalente, Bagageira)',\n",
    "                             goals='Esta(Sobressalente, Eixo) & Esta(Furado, Bagageira)',\n",
    "                             actions=[\n",
    "                                 Action('Coloca(obj, loc,novoloc)',\n",
    "                                       precond='Esta(obj, loc)',\n",
    "                                       effect='Esta(obj, novoloc) & ~Esta(obj, loc)',\n",
    "                                       domain='Pneu(obj)'),\n",
    "                             ],\n",
    "                             domain='Pneu(Sobressalente) & Pneu(Furado)'                             \n",
    "                            )\n",
    "\n",
    "# Aplicar algumas ações\n",
    "print('Vamos colocar o pneu sobressalente no chão')\n",
    "pneu_furado.act(expr('Coloca(Sobressalente, Bagageira, Chao)'))\n",
    "print(pneu_furado.initial)\n",
    "print('Vamos colocar o pneu furado também no chão')\n",
    "pneu_furado.act(expr('Coloca(Furado, Eixo, Chao)'))\n",
    "print(pneu_furado.initial)\n",
    "print('Vamos colocar o pneu sobressalente no eixo')\n",
    "pneu_furado.act(expr('Coloca(Sobressalente,Chao,Eixo)'))\n",
    "print(pneu_furado.initial)\n",
    "print('Vamos colocar o pneu furado na bagageira')\n",
    "pneu_furado.act(expr('Coloca(Furado,Chao,Bagageira)'))\n",
    "print(pneu_furado.initial)\n",
    "print('Objetivo?', pneu_furado.goal_test())"
   ]
  },
  {
   "cell_type": "markdown",
   "metadata": {},
   "source": [
    "## Planeamento como procura em espaços de estados\n",
    "\n",
    "A descrição de um problema de planeamento define um problema de procura: podemos procurar a partir do estado inicial através de espaços de estados, movimento para a frente ('forward') procurando o objetivo. Uma das vantagens da representação declarativa dos esquemas de ações é que também se pode procurar \"backward\" a partir do objetivo, procurando o estado inicial.\n",
    "\n",
    "As classes `ForwardPlan` e `BackwardPlan` são duas subclasses da classe `Problem`, que como se recordam é usada na formulação de problemas de espaços de estados. Assim, ambas as subclasses têm definidos métodos já conhecidos, nomeadamente:\n",
    "* `actions(self, state)` - este método, dado um estado, devolve a lista de todas as ações possiveis nesse estado;\n",
    "* `result(self, state, action)` - dados um estado e uma ação, este método devolve o estado resultante da execução da ação **action**, no estado **state**\n",
    "* `goal_test(self, state)` - este método retornará `True` nos casos em que o estado fornecido (**state**) seja o estado final ou membro dos estados finais\n",
    "\n",
    "Nesta aula iremos apenas trabalhar com a classe `ForwardPlan`.\n",
    "\n",
    "### Espaços de estados: classe `ForwardPlan`\n",
    "\n",
    "A classe `ForwardPlan` é uma sub-classe da classe `Problem`, isto significa que é necessário definir o goal e o estado inicial no construtor. No *ForwardPlan* o estado inicial corresponde ao conhecimento base do problema de planeamento e o goal aos objetivos. Vejamos brevemente o construtor desta classe:\n",
    "```python\n",
    "def __init__(self, planning_problem, verbose=False):\n",
    "    super().__init__(associate('&', planning_problem.initial), associate('&', planning_problem.goals))\n",
    "    self.planning_problem = planning_problem\n",
    "    self.expanded_actions = self.planning_problem.expand_actions()\n",
    "    if verbose:\n",
    "        print(self.expanded_actions)\n",
    "```\n",
    "Reparem que a instrução `super().__init__` está a definir os atributos da classe `Problem` que esta sub-classe vai herdar, é aqui que definimos o estado inicial como sendo o conhecimento base (`planning_problem.initial`) e o goal como sendo o objetivo do problema de planeamento (`planning_problem.goals`). Para além disso, estamos a instanciar todas as ações viáveis (no atributo `expanded_actions`) a partir dos esquemas de ações definidos no problema de planeamento."
   ]
  },
  {
   "cell_type": "markdown",
   "metadata": {},
   "source": [
    "Recordemos o problema da torre dos três blocos definido anteriormente. Já definimos os estado inicial, objetivos, e ações de uma forma abstrata, recorrendo à classe `PlanningProblem`.\n",
    "<img src=\"3-blocks.png\" width=\"300\">"
   ]
  },
  {
   "cell_type": "code",
   "execution_count": 74,
   "metadata": {},
   "outputs": [],
   "source": [
    "# situação inicial\n",
    "kb = 'Sobre(A, Mesa) & Sobre(B, Mesa) & Sobre(C, A) & Livre(B) & Livre(C) & ~Livre(A) & ~Sobre(A,B) & ~Sobre(A,C) &\\\n",
    "      ~Sobre(B,A) & ~Sobre(B,C) & ~Sobre(C,B) & ~Sobre(C,Mesa)'\n",
    "# dominio\n",
    "dominio = 'Bloco(A) & Bloco(B) & Bloco(C)'\n",
    "# objetivo\n",
    "goal = 'Sobre(B, C) & Sobre(A, B)'\n",
    "# ações\n",
    "# ações\n",
    "acoes = [Action('MoveParaMesa(b, x)',\n",
    "                precond='Sobre(b, x) & Livre(b) & Bloco(b) & Bloco(x)',\n",
    "                effect='Sobre(b, Mesa) & Livre(x) & ~Sobre(b, x)',\n",
    "                domain='Bloco(b) & Bloco(x)'\n",
    "               ),\n",
    "         Action('Move(b, x, y)',\n",
    "                precond='Sobre(b, x) & Livre(b) & Livre(y) & Bloco(b) & Bloco(y)',\n",
    "                effect='Sobre(b, y) & Livre(x) & ~Sobre(b, x) & ~Livre(y)',\n",
    "                domain='Bloco(b) & Bloco(x) & Bloco(y)'\n",
    "               ),\n",
    "         Action('MoveDaMesa(b, y)',\n",
    "                precond='Sobre(b, Mesa) & Livre(b) & Livre(y)',\n",
    "                effect='Sobre(b, y)  & ~Sobre(b, Mesa) & ~Livre(y)',\n",
    "                domain='Bloco(b) & Bloco(y)'\n",
    "               )]\n",
    "\n",
    "torre3blocos = PlanningProblem(initial=kb, goals=goal, actions=acoes, domain=dominio)"
   ]
  },
  {
   "cell_type": "markdown",
   "metadata": {},
   "source": [
    "Agora iremos transformar este problema de planeamento num problema de espaços de estados, em que queremos começar com o conhecimento base e ir aplicando as acções (para a frente) até atingir um estado que satisfaça os objectivos.\n",
    "\n",
    "Vamos criar uma instância da classe `ForwardPlan`, passando-lhe a instância de `PlanningProblem`:"
   ]
  },
  {
   "cell_type": "code",
   "execution_count": 75,
   "metadata": {},
   "outputs": [],
   "source": [
    "p = ForwardPlan(torre3blocos)"
   ]
  },
  {
   "cell_type": "markdown",
   "metadata": {},
   "source": [
    "Ao instanciar um problema como espaços de estados, todas as ações viáveis serão geradas a partir dos esquemas de ações abstratos definidos no problema de planeamento.\n",
    "\n",
    "Para verificarmos as ações geradas, temos de ativar o modo display."
   ]
  },
  {
   "cell_type": "code",
   "execution_count": 76,
   "metadata": {},
   "outputs": [
    {
     "name": "stdout",
     "output_type": "stream",
     "text": [
      "As 18 Ações expandidas: [MoveParaMesa(B, C), MoveParaMesa(B, A), MoveParaMesa(C, B), MoveParaMesa(C, A), MoveParaMesa(A, B), MoveParaMesa(A, C), Move(B, C, A), Move(B, A, C), Move(C, B, A), Move(C, A, B), Move(A, B, C), Move(A, C, B), MoveDaMesa(B, C), MoveDaMesa(B, A), MoveDaMesa(C, B), MoveDaMesa(C, A), MoveDaMesa(A, B), MoveDaMesa(A, C)]\n"
     ]
    }
   ],
   "source": [
    "p = ForwardPlan(torre3blocos, display=True)"
   ]
  },
  {
   "cell_type": "markdown",
   "metadata": {},
   "source": [
    "Reparem que foram geradas todas as ações viáveis entre os 3 blocos e entre blocos e mesa. Além disso, nenhuma das ações  dos esquemas `MoveParaMesa(Mesa, x)`, `MoveParaMesa(x, Mesa)`, `Move(Mesa, x, y)` e `Move(x, y, Mesa)`, em que `x` e `y` são Mesa foi gerada, i.e. podem ser A, B, C, foi gerada. Este tipo de ações não foi gerado por causa do atributo dominio que existe no objeto `Action`. \n",
    "\n",
    "Existem quatro objetos definidos: A, B, C e Mesa, e todas as permutações destes objetos irão ser testadas em cada um dos esquemas de ações. No entanto, apenas algumas ações serão válidas por causa da filtragem do dominio (tal como explicado anteriormente), que só aceita alguns objetos como sendo blocos."
   ]
  },
  {
   "cell_type": "markdown",
   "metadata": {},
   "source": [
    "O estado inicial é uma conjunção, uma `Exprs`, e corresponde ao conhecimento de base da instância do problema de planeamento que é passado como input no construtor.\n",
    "\n",
    "Vamos verificar o estado inicial e quais as ações possíveis para o estado inicial."
   ]
  },
  {
   "cell_type": "code",
   "execution_count": 80,
   "metadata": {},
   "outputs": [
    {
     "data": {
      "text/plain": [
       "(Bloco(A) & Bloco(B) & Bloco(C) & Livre(B) & Livre(C) & NotLivre(A) & NotSobre(A, B) & NotSobre(A, C) & NotSobre(B, A) & NotSobre(B, C) & NotSobre(C, B) & NotSobre(C, Mesa) & Sobre(A, Mesa) & Sobre(B, Mesa) & Sobre(C, A))"
      ]
     },
     "execution_count": 80,
     "metadata": {},
     "output_type": "execute_result"
    }
   ],
   "source": [
    "p.initial"
   ]
  },
  {
   "cell_type": "markdown",
   "metadata": {},
   "source": [
    "Para saber quais as acções possíveis, usamos o método standard `actions`:"
   ]
  },
  {
   "cell_type": "code",
   "execution_count": 81,
   "metadata": {},
   "outputs": [
    {
     "name": "stdout",
     "output_type": "stream",
     "text": [
      "[MoveParaMesa(C, A), Move(C, A, B), MoveDaMesa(B, C)]\n"
     ]
    }
   ],
   "source": [
    "a = p.actions(p.initial)\n",
    "print(a)"
   ]
  },
  {
   "cell_type": "markdown",
   "metadata": {},
   "source": [
    "Vamos mover o bloco C que está em cima de A para a Mesa e verificar o estado resultante, usando a função `result`:"
   ]
  },
  {
   "cell_type": "code",
   "execution_count": 82,
   "metadata": {},
   "outputs": [
    {
     "name": "stdout",
     "output_type": "stream",
     "text": [
      "(Bloco(A) & Bloco(B) & Bloco(C) & Livre(A) & Livre(B) & Livre(C) & NotSobre(A, B) & NotSobre(A, C) & NotSobre(B, A) & NotSobre(B, C) & NotSobre(C, A) & NotSobre(C, B) & Sobre(A, Mesa) & Sobre(B, Mesa) & Sobre(C, Mesa))\n"
     ]
    }
   ],
   "source": [
    "e1 = p.result(p.initial,a[0])\n",
    "print(e1)"
   ]
  },
  {
   "cell_type": "markdown",
   "metadata": {},
   "source": [
    "E quais as acções agora?"
   ]
  },
  {
   "cell_type": "code",
   "execution_count": 83,
   "metadata": {},
   "outputs": [
    {
     "name": "stdout",
     "output_type": "stream",
     "text": [
      "[MoveDaMesa(B, C), MoveDaMesa(B, A), MoveDaMesa(C, B), MoveDaMesa(C, A), MoveDaMesa(A, B), MoveDaMesa(A, C)]\n"
     ]
    }
   ],
   "source": [
    "accoes=p.actions(e1)\n",
    "print(accoes)"
   ]
  },
  {
   "cell_type": "markdown",
   "metadata": {},
   "source": [
    "Vamos voltar a mover o bloco C que está em cima da mesa de volta para A e verificar o estado resultante, usando a função `result`:"
   ]
  },
  {
   "cell_type": "code",
   "execution_count": 84,
   "metadata": {},
   "outputs": [
    {
     "name": "stdout",
     "output_type": "stream",
     "text": [
      "(Bloco(A) & Bloco(B) & Bloco(C) & Livre(B) & Livre(C) & NotLivre(A) & NotSobre(A, B) & NotSobre(A, C) & NotSobre(B, A) & NotSobre(B, C) & NotSobre(C, B) & NotSobre(C, Mesa) & Sobre(A, Mesa) & Sobre(B, Mesa) & Sobre(C, A))\n"
     ]
    }
   ],
   "source": [
    "e2 = p.result(e1,accoes[3])\n",
    "print(e2)"
   ]
  },
  {
   "cell_type": "markdown",
   "metadata": {},
   "source": [
    "Se compararmos o estado inicial com este que decorre da execução de uma acção e da sua inversa:"
   ]
  },
  {
   "cell_type": "code",
   "execution_count": 85,
   "metadata": {},
   "outputs": [
    {
     "name": "stdout",
     "output_type": "stream",
     "text": [
      "(Bloco(A) & Bloco(B) & Bloco(C) & Livre(B) & Livre(C) & NotLivre(A) & NotSobre(A, B) & NotSobre(A, C) & NotSobre(B, A) & NotSobre(B, C) & NotSobre(C, B) & NotSobre(C, Mesa) & Sobre(A, Mesa) & Sobre(B, Mesa) & Sobre(C, A))\n"
     ]
    },
    {
     "data": {
      "text/plain": [
       "True"
      ]
     },
     "execution_count": 85,
     "metadata": {},
     "output_type": "execute_result"
    }
   ],
   "source": [
    "print(p.initial)\n",
    "e2==p.initial"
   ]
  },
  {
   "cell_type": "markdown",
   "metadata": {},
   "source": [
    "##### Procura em espaços de estados\n",
    "\n",
    "A procura `Forward` através dos espaços de estados, começa no estado inicial e usa as ações do problema para procurar \"para a frente\" até atingir um estado que satisfaça a expressão indicada no atributo `goal`.\n",
    "\n",
    "Vamos, por exemplo, aplicar a procura em largura para encontrar soluções para o nosso problema dos blocos `p`, problema definido anteriormente onde cada acção tem o domínio bem definido (são geradas 18 ações viáveis para serem usadas durante a procura, embora apenas um subconjunto delas é que pode satisfazer as pré-condições).\n",
    "\n",
    "Usemos a função **breadth_first_graph_search_plus()**, que faz uma procura em largura em grafo e em que o objectivo é testado quando um estado é visitado, i.e., quando se geram os sucessores."
   ]
  },
  {
   "cell_type": "code",
   "execution_count": 86,
   "metadata": {},
   "outputs": [
    {
     "name": "stdout",
     "output_type": "stream",
     "text": [
      "Solução: [MoveParaMesa(C, A), MoveDaMesa(B, C), MoveDaMesa(A, B)]\n"
     ]
    }
   ],
   "source": [
    "solucao_mundo_blocos = breadth_first_graph_search_plus(p).solution()\n",
    "solucao_mundo_blocos = list(map(lambda action: Expr(action.name, *action.args), solucao_mundo_blocos))\n",
    "print('Solução:',solucao_mundo_blocos)"
   ]
  },
  {
   "cell_type": "markdown",
   "metadata": {},
   "source": [
    "## Exercício 8\n",
    "\n",
    "Temos duas cargas em dois aeroportos diferentes: carga 1 em Lisboa (LX) e carga 2 no Porto (OPO). O nosso objetivo é enviar cada carga para o outro aeroporto. Temos dois aviões para nos ajudar a completar essa tarefa. \n",
    "\n",
    "a) Formule este problema como um problema de planeamento.\n",
    "\n",
    "**Dicas:**  \n",
    "1. O dominio indica os vários objetos e os respetivos tipos, i.e., `Carga(C1)` e `Aviao(P1)` e `Aeroporto(LX)` e ...\n",
    "2. O objetivo será a carga C1 estar no Porto (OPO), `Em(C1,OPO)` e a carga C2 estar em Lisboa (LX),  `Em(C2,LX)`\n",
    "3. O problema pode ser definido com três ações: \n",
    "    * `Carrega(c,p,a)` - carregar carga `c` no avião `p` que está no aeroport `a`, ie, `c` e `p`têm de estar ambos no aeroporto `a`. Esta ação terá o efeito de a carga estar dentro do avião (`Dentro(c,p)`) e deixar de estar no aeroporto (`~Em(c,a)`).\n",
    "    * `Descarrega(c,p,a)` - descarregar carga `c` do avião `p` que está no aeroporto `a`. Esta ação terá o efeito de a carga estar no aeroporto (`Em(c,a)`) e não estar dentro do avião (`~Dentro(c,p)`).\n",
    "    * `Voa(p,f,to)` - voo do avião `p` que parte de `f` (não se pode usar *from*, o planeador não aceita esse literal) com destino a `to`\n",
    "4. Depois de definirem o problema podem aplicar o seguinte conjunto de ações que corresponde à solução do problema:\n",
    "```python\n",
    "solution = [expr(\"Carrega(C1 , P1, LX)\"),\n",
    "            expr(\"Voa(P1, LX, OPO)\"),\n",
    "            expr(\"Descarrega(C1, P1, OPO)\"),\n",
    "            expr(\"Carrega(C2, P2, OPO)\"),\n",
    "            expr(\"Voa(P2, OPO, LX)\"),\n",
    "            expr(\"Desccarrega(C2, P2, LX)\")]\n",
    "```\n",
    "\n",
    "b) Obtenha os tempos de execução e os paths (activando o modo display na função *breadth_first_graph_search_plus*, `display=True`) no Forward."
   ]
  },
  {
   "cell_type": "code",
   "execution_count": 105,
   "metadata": {},
   "outputs": [
    {
     "name": "stdout",
     "output_type": "stream",
     "text": [
      "Objetivo? False\n"
     ]
    }
   ],
   "source": [
    "# Resolução do exercicio 7\n",
    "\n",
    "air_Cargo = PlanningProblem(initial='Em(C1,LX) & Em(C2,OPO) & Em(P1,LX) & Em(P2,OPO)',\n",
    "                     goals='Em(C1,OPO) & Em(C2,LX)',\n",
    "                     actions=[\n",
    "                         Action('Carrega(c, p, a)',\n",
    "                               precond='Em(c, a) & Em(p, a)',\n",
    "                               effect='Dentro(c, p) & ~Em(c, a)',\n",
    "                               domain='Carga(c) & Aviao(p) & Aeroporto(a)'),\n",
    "                         Action('Descarrega(c, p, a)',\n",
    "                               precond='Dentro(c, p) & Em(p, a)',\n",
    "                               effect='Em(c, a) & ~Dentro(c, p)',\n",
    "                               domain='Carga(c) & Aviao(p) & Aeroporto(a)'),\n",
    "                         Action('Voa(p, f, to)',\n",
    "                               precond='Em(p, f)',\n",
    "                               effect='Em(p, to) & ~Em(p, f)',\n",
    "                               domain='Aviao(p) & Aeroporto(f) & Aeroporto(to)')\n",
    "                     ],\n",
    "                     domain='Carga(C1) & Carga(C2) & Aviao(P1) & Aviao(P2) & Aeroporto(LX) & Aeroporto(OPO)'\n",
    "                    )\n",
    "\n",
    "# Aplicar múltiplas ações para chegar à solução\n",
    "solution = [expr(\"Carrega(C1 , P1, LX)\"),\n",
    "            expr(\"Voa(P1, LX, OPO)\"),\n",
    "            expr(\"Descarrega(C1, P1, OPO)\"),\n",
    "            expr(\"Carrega(C2, P2, OPO)\"),\n",
    "            expr(\"Voa(P2, OPO, LX)\"),\n",
    "            expr(\"Descarrega (C2, P2, LX)\")] \n",
    "\n",
    "for action in solution:\n",
    "    air_cargo.act(action)\n",
    "\n",
    "print('Objetivo?',air_Cargo.goal_test())"
   ]
  },
  {
   "cell_type": "code",
   "execution_count": 106,
   "metadata": {},
   "outputs": [
    {
     "name": "stdout",
     "output_type": "stream",
     "text": [
      "Forward:\n",
      "224 paths have been expanded and 111 paths remain in the frontier\n",
      "Solução: [Carrega(C1, P1, LX), Carrega(C2, P2, OPO), Voa(P1, LX, OPO), Descarrega(C1, P1, OPO), Voa(P2, OPO, LX), Descarrega(C2, P2, LX)]\n",
      "Tempo de execução: 0.17773540000007415\n"
     ]
    }
   ],
   "source": [
    "import timeit\n",
    "\n",
    "air_cargo = PlanningProblem(initial='Em(C1,LX) & Em(C2,OPO) & Em(P1,LX) & Em(P2,OPO)',\n",
    "                     goals='Em(C1,OPO) & Em(C2,LX)',\n",
    "                     actions=[\n",
    "                         Action('Carrega(c, p, a)',\n",
    "                               precond='Em(c, a) & Em(p, a)',\n",
    "                               effect='Dentro(c, p) & ~Em(c, a)',\n",
    "                               domain='Carga(c) & Aviao(p) & Aeroporto(a)'),\n",
    "                         Action('Descarrega(c, p, a)',\n",
    "                               precond='Dentro(c, p) & Em(p, a)',\n",
    "                               effect='Em(c, a) & ~Dentro(c, p)',\n",
    "                               domain='Carga(c) & Aviao(p) & Aeroporto(a)'),\n",
    "                         Action('Voa(p, f, to)',\n",
    "                               precond='Em(p, f)',\n",
    "                               effect='Em(p, to) & ~Em(p, f)',\n",
    "                               domain='Aviao(p) & Aeroporto(f) & Aeroporto(to)')\n",
    "                     ],\n",
    "                     domain='Carga(C1) & Carga(C2) & Aviao(P1) & Aviao(P2) & Aeroporto(LX) & Aeroporto(OPO)'\n",
    "                    )\n",
    "\n",
    "print('Forward:')\n",
    "p = ForwardPlan(air_cargo)\n",
    "start = timeit.default_timer()\n",
    "air_cargo_solution = breadth_first_graph_search_plus(p, display=True).solution()\n",
    "stop = timeit.default_timer()\n",
    "air_cargo_solution = list(map(lambda action: Expr(action.name, *action.args), air_cargo_solution))\n",
    "print('Solução:',air_cargo_solution)\n",
    "print('Tempo de execução:', stop-start)"
   ]
  },
  {
   "cell_type": "markdown",
   "metadata": {},
   "source": [
    "## Exercício 9\n",
    "\n",
    "Pretendemos comprar alguns artigos: um pacote de leite, bananas, e um livro. Estamos inicialmente em casa e sabemos que o leite e as bananas estão disponíveis no supermercado, e o livro numa livraria. \n",
    "\n",
    "a) Formule este problema como um problema de planeamento.\n",
    "\n",
    "b) Obtenha os tempos de execução e os paths (activando o modo display na função *breadth_first_graph_search_plus*, `display=True`) no Forward."
   ]
  },
  {
   "cell_type": "code",
   "execution_count": 96,
   "metadata": {},
   "outputs": [
    {
     "name": "stdout",
     "output_type": "stream",
     "text": [
      "Objetivo? False\n",
      "Objetivo? True\n"
     ]
    }
   ],
   "source": [
    "# Resolução do exercicio 8\n",
    "\n",
    "# SM = Supermarket; BS = Livroloja\n",
    "shopping = PlanningProblem(initial='Em(Casa)',\n",
    "                           goals='Tem(Leite) & Tem(Bananas) & Tem(Livro)',\n",
    "                           actions=[\n",
    "                               Action('Compra(x, loja)',\n",
    "                                     precond='Em(loja)',\n",
    "                                     effect='Tem(x)',\n",
    "                                     domain='Loja(loja) & Item(x) & Vende(loja, x)'),\n",
    "                               Action('Vai(x, y)',\n",
    "                                     precond='Em(x)',\n",
    "                                     effect='Em(y) & ~Em(x)',\n",
    "                                     domain='Lugar(x) & Lugar(y)')],\n",
    "                           domain='Lugar(Casa) & Lugar(SM) & Lugar(BS) & Loja(SM) & Loja(BS) & Item(Leite) & ' + \\\n",
    "                                  'Item(Bananas) & Item(Livro) & Vende(SM,Leite) & Vende(SM,Bananas) & Vende(BS,Livro)'\n",
    "                          )\n",
    "\n",
    "# Aplicar algumas ações\n",
    "print('Objetivo?',shopping.goal_test())\n",
    "shopping.act(expr('Vai(Casa,BS)'))\n",
    "shopping.act(expr('Compra(Livro,BS)'))\n",
    "shopping.act(expr('Vai(BS,SM)'))\n",
    "shopping.act(expr('Compra(Bananas,SM)'))\n",
    "shopping.act(expr('Compra(Leite,SM)'))\n",
    "print('Objetivo?',shopping.goal_test())"
   ]
  },
  {
   "cell_type": "code",
   "execution_count": 98,
   "metadata": {},
   "outputs": [
    {
     "name": "stdout",
     "output_type": "stream",
     "text": [
      "Forward:\n",
      "31 paths have been expanded and 9 paths remain in the frontier\n",
      "Solução: [Vai(Casa, SM), Compra(Bananas, SM), Compra(Leite, SM), Vai(SM, BS), Compra(Livro, BS)]\n",
      "Tempo de execução: 0.021835499999951935\n"
     ]
    }
   ],
   "source": [
    "import timeit\n",
    "shopping = PlanningProblem(initial='Em(Casa)',\n",
    "                           goals='Tem(Leite) & Tem(Bananas) & Tem(Livro)',\n",
    "                           actions=[\n",
    "                               Action('Compra(x, loja)',\n",
    "                                     precond='Em(loja)',\n",
    "                                     effect='Tem(x)',\n",
    "                                     domain='Loja(loja) & Item(x) & Vende(loja, x)'),\n",
    "                               Action('Vai(x, y)',\n",
    "                                     precond='Em(x)',\n",
    "                                     effect='Em(y) & ~Em(x)',\n",
    "                                     domain='Lugar(x) & Lugar(y)')],\n",
    "                           domain='Lugar(Casa) & Lugar(SM) & Lugar(BS) & Loja(SM) & Loja(BS) & Item(Leite) & ' + \\\n",
    "                                  'Item(Bananas) & Item(Livro) & Vende(SM,Leite) & Vende(SM,Bananas) & Vende(BS,Livro)'\n",
    "                          )\n",
    "\n",
    "print('Forward:')\n",
    "p = ForwardPlan(shopping)\n",
    "start = timeit.default_timer()\n",
    "shopping_solution = breadth_first_graph_search_plus(p, display=True).solution()\n",
    "stop = timeit.default_timer()\n",
    "shopping_solution = list(map(lambda action: Expr(action.name, *action.args), shopping_solution))\n",
    "print('Solução:',shopping_solution)\n",
    "print('Tempo de execução:', stop-start)\n"
   ]
  },
  {
   "cell_type": "markdown",
   "metadata": {},
   "source": [
    "## Exercício 10\n",
    "\n",
    "CReplacesideremos uma torre de Hanoi com três discos (D1, D2 e D3), com buracos no centro e três pinos (A, B e C), Replacede os discos podem ser colocados. O disco D3 é maior que o disco D2, que é maior que o disco D1. Inicialmente, todos os discos estão no pino A, com D3 em baixo, D2 no meio e D1 no topo. Queremos movê-los para o pino C com a mesma cReplacefiguração (D3 em baixo, D2 no meio e D1 no topo). As seguintes regras aplicam-se:\n",
    "* Apenas o disco do topo num pino pode ser deslocado\n",
    "* Um disco não pode ser colocado por cima de um disco menor  \n",
    "\n",
    "a) Formule este problema.\n",
    "<img src=\"hanoi.png\" width=\"200\">\n",
    "\n",
    "b) Obtenha os tempos de execução e os paths (activando o modo display na função *breadth_first_graph_search_plus*, `display=True`) no Forward."
   ]
  },
  {
   "cell_type": "code",
   "execution_count": 90,
   "metadata": {},
   "outputs": [
    {
     "name": "stdout",
     "output_type": "stream",
     "text": [
      "False\n",
      "Objetivo? True\n"
     ]
    }
   ],
   "source": [
    "# Resolução do exercício 9\n",
    "\n",
    "estado = [\n",
    "    expr('Sobre(D1,D2)'),\n",
    "    expr('Sobre(D2,D3)'),\n",
    "    expr('Sobre(D3,A)'),\n",
    "    expr('Livre(D1)'),\n",
    "    expr('Livre(B)'),\n",
    "    expr('Livre(C)')\n",
    "]\n",
    "\n",
    "dominio = 'Disco(D1) & Disco(D2) & Disco(D3) & Pino(A) & Pino(B) & Pino(C) & Menor(D1,D2) & ' + \\\n",
    "            'Menor(D2,D3) & Menor(D1,D3) & Menor(D1,A) & Menor(D1,B) & Menor(D1,C) & ' + \\\n",
    "            'Menor(D2,A) & Menor(D2,B) & Menor(D2,C) & Menor(D3,A) & Menor(D3,B) & Menor(D3,C)'\n",
    "\n",
    "goal = 'Sobre(D3,C) & Sobre(D2,D3) & Sobre(D1,D2)'\n",
    "\n",
    "acoes = [Action('Move(d,x,y)', \n",
    "               precond='Livre(d) & Sobre(d,x) & Livre(y)',\n",
    "               effect='Sobre(d,y) & Livre(x) & ~Sobre(d,x) & ~Livre(y)',\n",
    "               domain='Disco(d) & Menor(d,x) & Menor(d,y)')]\n",
    "\n",
    "th = PlanningProblem(initial=estado, goals=goal, actions=acoes, domain=dominio)\n",
    "\n",
    "print(th.goal_test())\n",
    "solution = [expr('Move(D1,D2,C)'),\n",
    "            expr('Move(D2,D3,B)'),\n",
    "            expr('Move(D1,C,D2)'),\n",
    "            expr('Move(D3,A,C)'),\n",
    "            expr('Move(D1,D2,A)'),\n",
    "            expr('Move(D2,B,D3)'),\n",
    "            expr('Move(D1,A,D2)')\n",
    "           ]\n",
    "\n",
    "for a in solution:\n",
    "    th.act(a)\n",
    "print('Objetivo?',th.goal_test())"
   ]
  },
  {
   "cell_type": "code",
   "execution_count": 91,
   "metadata": {},
   "outputs": [
    {
     "name": "stdout",
     "output_type": "stream",
     "text": [
      "Forward:\n",
      "Solução: [Move(D1, D2, C), Move(D2, D3, B), Move(D1, C, D2), Move(D3, A, C), Move(D1, D2, A), Move(D2, B, D3), Move(D1, A, D2)]\n",
      "Tempo de execução: 0.3650449000000435\n"
     ]
    }
   ],
   "source": [
    "th = PlanningProblem(initial=estado, goals=goal, actions=acoes, domain=dominio)\n",
    "\n",
    "import timeit\n",
    "\n",
    "print('Forward:')\n",
    "p = ForwardPlan(th)\n",
    "start = timeit.default_timer()\n",
    "travel_solution = breadth_first_graph_search_plus(p).solution()\n",
    "stop = timeit.default_timer()\n",
    "travel_solution = list(map(lambda action: Expr(action.name, *action.args), travel_solution))\n",
    "print('Solução:',travel_solution)\n",
    "print('Tempo de execução:', stop-start)\n"
   ]
  },
  {
   "cell_type": "code",
   "execution_count": 92,
   "metadata": {},
   "outputs": [
    {
     "name": "stdout",
     "output_type": "stream",
     "text": [
      "Objectivo? False\n",
      "Objetivo? True\n"
     ]
    }
   ],
   "source": [
    "# Outra solução mais simples: dominio e goal simplificados e com mais um esquema de ações\n",
    "  # Resolução do exercício 9\n",
    "\n",
    "estado = [\n",
    "    expr('Sobre(D1,D2)'),\n",
    "    expr('Sobre(D2,D3)'),\n",
    "    expr('Sobre(D3,A)'),\n",
    "    expr('Livre(D1)'),\n",
    "    expr('Livre(B)'),\n",
    "    expr('Livre(C)')\n",
    "]\n",
    "\n",
    "dominio = 'Disco(D1) & Disco(D2) & Disco(D3) & Pino(A) & Pino(B) & Pino(C) & Menor(D1,D2) & ' + \\\n",
    "            'Menor(D2,D3) & Menor(D1,D3) '\n",
    "\n",
    "goal = 'Sobre(D3,C) & Sobre(D2,D3) & Sobre(D1,D2)'\n",
    "\n",
    "acoes = [Action('MoveParaDisco(d,x,y)', \n",
    "               precond='Livre(d) & Sobre(d,x) & Livre(y)',\n",
    "               effect='Sobre(d,y) & Livre(x) & ~Sobre(d,x) & ~Livre(y)',\n",
    "               domain='Disco(d) & Disco(y)'),\n",
    "        \n",
    "         Action('MoveParaPino(d,x,y)', \n",
    "               precond='Livre(d) & Sobre(d,x) & Livre(y)',\n",
    "               effect='Sobre(d,y) & Livre(x) & ~Sobre(d,x) & ~Livre(y)',\n",
    "               domain='Disco(d) & Pino(y)')        \n",
    "        ]\n",
    "\n",
    "\n",
    "\n",
    "th = PlanningProblem(initial=estado, goals=goal, actions=acoes, domain=dominio)\n",
    "\n",
    "print('Objectivo?',th.goal_test())\n",
    "solution = [expr('MoveParaPino(D1,D2,C)'),\n",
    "            expr('MoveParaPino(D2,D3,B)'),\n",
    "            expr('MoveParaDisco(D1,C,D2)'),\n",
    "            expr('MoveParaPino(D3,A,C)'),\n",
    "            expr('MoveParaPino(D1,D2,A)'),\n",
    "            expr('MoveParaDisco(D2,B,D3)'),\n",
    "            expr('MoveParaDisco(D1,A,D2)')\n",
    "           ]\n",
    "\n",
    "for a in solution:\n",
    "    th.act(a)\n",
    "print('Objetivo?',th.goal_test())  "
   ]
  },
  {
   "cell_type": "code",
   "execution_count": 93,
   "metadata": {},
   "outputs": [
    {
     "name": "stdout",
     "output_type": "stream",
     "text": [
      "Forward:\n",
      "Solução: [MoveParaPino(D1, D2, B), MoveParaDisco(D2, D3, D1), MoveParaPino(D3, A, C), MoveParaDisco(D2, D1, D3), MoveParaDisco(D1, B, D2)]\n",
      "Tempo de execução: 0.20175180000001092\n"
     ]
    }
   ],
   "source": [
    "th = PlanningProblem(initial=estado, goals=goal, actions=acoes, domain=dominio)\n",
    "\n",
    "import timeit\n",
    "\n",
    "print('Forward:')\n",
    "p = ForwardPlan(th)\n",
    "start = timeit.default_timer()\n",
    "travel_solution = breadth_first_graph_search_plus(p).solution()\n",
    "stop = timeit.default_timer()\n",
    "travel_solution = list(map(lambda action: Expr(action.name, *action.args), travel_solution))\n",
    "print('Solução:',travel_solution)\n",
    "print('Tempo de execução:', stop-start)\n"
   ]
  }
 ],
 "metadata": {
  "kernelspec": {
   "display_name": "Python 3",
   "language": "python",
   "name": "python3"
  },
  "language_info": {
   "codemirror_mode": {
    "name": "ipython",
    "version": 3
   },
   "file_extension": ".py",
   "mimetype": "text/x-python",
   "name": "python",
   "nbconvert_exporter": "python",
   "pygments_lexer": "ipython3",
   "version": "3.7.3"
  }
 },
 "nbformat": 4,
 "nbformat_minor": 4
}
